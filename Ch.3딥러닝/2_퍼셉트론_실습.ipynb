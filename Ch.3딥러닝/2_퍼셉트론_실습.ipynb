{
  "nbformat": 4,
  "nbformat_minor": 0,
  "metadata": {
    "colab": {
      "name": "2_퍼셉트론 실습.ipynb",
      "provenance": [],
      "collapsed_sections": [],
      "authorship_tag": "ABX9TyNg1657Tr8PQK7xp2GNlr79",
      "include_colab_link": true
    },
    "kernelspec": {
      "name": "python3",
      "display_name": "Python 3"
    },
    "language_info": {
      "name": "python"
    }
  },
  "cells": [
    {
      "cell_type": "markdown",
      "metadata": {
        "id": "view-in-github",
        "colab_type": "text"
      },
      "source": [
        "<a href=\"https://colab.research.google.com/github/rio1004666/Colab/blob/main/Ch.3%EB%94%A5%EB%9F%AC%EB%8B%9D/2_%ED%8D%BC%EC%85%89%ED%8A%B8%EB%A1%A0_%EC%8B%A4%EC%8A%B5.ipynb\" target=\"_parent\"><img src=\"https://colab.research.google.com/assets/colab-badge.svg\" alt=\"Open In Colab\"/></a>"
      ]
    },
    {
      "cell_type": "code",
      "metadata": {
        "id": "FVUocO5lUsPF"
      },
      "source": [
        "\"\"\"\n",
        "\n",
        "날짜: 2021/10/26\n",
        "이름: 강병화\n",
        "내용: 퍼셉트론 실습하기\n",
        "\n",
        "\"\"\"\n",
        "\n",
        "import numpy as np\n",
        "\n"
      ],
      "execution_count": null,
      "outputs": []
    },
    {
      "cell_type": "code",
      "metadata": {
        "id": "2k9eSAGwU4Ei"
      },
      "source": [
        "# AND 연산 퍼셉트론 함수\n",
        "def AND(x1,x2):\n",
        "  x = np.array([x1,x2])\n",
        "  w = np.array([0.5, 0.5]) # AND 연산의 가중치가 정해져있음\n",
        "  b = -0.7\n",
        "  y = np.sum(x*w) + b # ax + b => np.sum은 행렬의 곱으로 쓴다. \n",
        "  if y <= 0:\n",
        "    return 0\n",
        "  else:\n",
        "    return 1\n",
        "# NAND 연산 퍼셉트론 함수\n",
        "def NAND(x1,x2):\n",
        "  x = np.array([x1,x2])\n",
        "  w = np.array([-0.5, -0.5])\n",
        "  b = 0.7\n",
        "  y = np.sum(x*w) + b # ax + b\n",
        "  if y <= 0:\n",
        "    return 0\n",
        "  else:\n",
        "    return 1\n",
        "# OR 연산 퍼셉트론 함수 \n",
        "def OR(x1,x2):\n",
        "  x = np.array([x1,x2])\n",
        "  w = np.array([2, 2]) # 가중치\n",
        "  b = -1 # 편향(y절편)\n",
        "  y = np.sum(x*w) + b # ax + b\n",
        "  if y <= 0:\n",
        "    return 0\n",
        "  else:\n",
        "    return 1\n"
      ],
      "execution_count": null,
      "outputs": []
    },
    {
      "cell_type": "code",
      "metadata": {
        "id": "CQhkMZD7W8c7"
      },
      "source": [
        "# 테스트하기 \n",
        "\n",
        "print('AND ')\n",
        "print('0, 0: ',AND(0,0))\n",
        "print('0, 1: ',AND(0,1))\n",
        "print('1, 0: ',AND(1,0))\n",
        "print('1, 1: ',AND(1,1))\n",
        "\n",
        "print('NAND ')\n",
        "print('0, 0: ',NAND(0,0))\n",
        "print('0, 1: ',NAND(0,1))\n",
        "print('1, 0: ',NAND(1,0))\n",
        "print('1, 1: ',NAND(1,1))\n",
        "\n",
        "print('OR ')\n",
        "print('0, 0: ',OR(0,0))\n",
        "print('0, 1: ',OR(0,1))\n",
        "print('1, 0: ',OR(1,0))\n",
        "print('1, 1: ',OR(1,1))\n"
      ],
      "execution_count": null,
      "outputs": []
    },
    {
      "cell_type": "code",
      "metadata": {
        "id": "jYTZukJ3XpE8"
      },
      "source": [
        "def XOR(x1,x2): # XOR하기 위해 NAND와 OR연산과 AND연산수행 \n",
        "  z1 = NAND(x1,x2)\n",
        "  z2 = OR(x1,x2)\n",
        "  y = AND(z1,z2) # NAND와 OR한 결과값을 AND연산 수행 \n",
        "  return y"
      ],
      "execution_count": null,
      "outputs": []
    },
    {
      "cell_type": "code",
      "metadata": {
        "id": "pPZmRg8BYGWz"
      },
      "source": [
        "print('XOR ')\n",
        "print('0, 0: ',XOR(0,0))\n",
        "print('0, 1: ',XOR(0,1))\n",
        "print('1, 0: ',XOR(1,0))\n",
        "print('1, 1: ',XOR(1,1))"
      ],
      "execution_count": null,
      "outputs": []
    }
  ]
}