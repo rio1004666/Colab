{
  "nbformat": 4,
  "nbformat_minor": 0,
  "metadata": {
    "colab": {
      "name": "9_RNN 실습.ipynb",
      "provenance": [],
      "collapsed_sections": [],
      "authorship_tag": "ABX9TyPuoTPt21vonBjdsi0G2R4w",
      "include_colab_link": true
    },
    "kernelspec": {
      "name": "python3",
      "display_name": "Python 3"
    },
    "language_info": {
      "name": "python"
    }
  },
  "cells": [
    {
      "cell_type": "markdown",
      "metadata": {
        "id": "view-in-github",
        "colab_type": "text"
      },
      "source": [
        "<a href=\"https://colab.research.google.com/github/rio1004666/Colab/blob/main/Ch3.%EB%94%A5%EB%9F%AC%EB%8B%9D/9_RNN_%EC%8B%A4%EC%8A%B5.ipynb\" target=\"_parent\"><img src=\"https://colab.research.google.com/assets/colab-badge.svg\" alt=\"Open In Colab\"/></a>"
      ]
    },
    {
      "cell_type": "code",
      "metadata": {
        "id": "NirjUN89e8Ud"
      },
      "source": [
        "\"\"\"\n",
        "날짜; 2021/10/28\n",
        "이름: 강병화\n",
        "내용: 딥러닝 RNN 실습하기\n",
        "\"\"\"\n",
        "import tensorflow as tf\n",
        "import numpy as np\n",
        "import matplotlib.pyplot as plt\n",
        "\n",
        "from tensorflow.keras.models import Sequential\n",
        "from tensorflow.keras.layers import SimpleRNN, Flatten, Dense"
      ],
      "execution_count": null,
      "outputs": []
    },
    {
      "cell_type": "code",
      "metadata": {
        "id": "Hymgi0e6fSjR"
      },
      "source": [
        "# 시계열 데이터 생성 \n",
        "time = np.arange(365) # 0~ 364까지 \n",
        "month_time = (time % 30) / 30\n",
        "time_series = 10 * np.where(month_time < 0.5, \n",
        "              np.cos(2*np.pi*month_time), \n",
        "              np.cos(2*np.pi*month_time) + np.random.random(365))\n",
        "time_series\n",
        "\n",
        "# 시각화 \n",
        "plt.figure(figsize=(10, 5))\n",
        "plt.xlabel('time')\n",
        "plt.ylabel('value')\n",
        "plt.plot(np.arange(0, 365),time_series[ : 365])"
      ],
      "execution_count": null,
      "outputs": []
    },
    {
      "cell_type": "code",
      "metadata": {
        "id": "rnxC6bGmha8B"
      },
      "source": [
        "# 데이터 정규화 \n",
        "def make_sequence(time_series, n):\n",
        "  train_data, train_label = [], []\n",
        "  for i in range(len(time_series)):\n",
        "    t = time_series[i:(i+n)]\n",
        "    if (i+n) < len(time_series):\n",
        "      train_data.append(t)\n",
        "      train_label.append(time_series[i+n])\n",
        "    else:\n",
        "      break\n",
        "  return np.array(train_data), np.array(train_label)\n",
        "train_data,train_label = make_sequence(time_series, 10)\n",
        "train_label"
      ],
      "execution_count": null,
      "outputs": []
    },
    {
      "cell_type": "code",
      "metadata": {
        "id": "dFwRxmeZACOp"
      },
      "source": [
        "# 데이터 셋 구조 변환 (데이터에대한 이해가 필요하다)\n",
        "train_data = train_data.reshape(-1,10,1) # -1은 행이고 자동으로 정해줌 10은 컬럼갯수 1은 z 차수 \n",
        "train_label = train_label.reshape(-1,1)\n",
        "print(train_data[0])"
      ],
      "execution_count": null,
      "outputs": []
    },
    {
      "cell_type": "code",
      "metadata": {
        "id": "uY6dxw02BAPw"
      },
      "source": [
        "# 학습데이터 , 라벨 \n",
        "_train_data = train_data[:300] # 300개까지는 train데이터\n",
        "_train_label = train_label[:300]\n",
        "_test_data = train_data[300:]  # 나머지 50여개는 test데이터 \n",
        "_test_label = train_label[300:]"
      ],
      "execution_count": null,
      "outputs": []
    },
    {
      "cell_type": "code",
      "metadata": {
        "id": "Nc0Q_ILmBC5c"
      },
      "source": [
        "# 모델 설계\n",
        "model = Sequential()\n",
        "model.add(SimpleRNN(units=32,activation='tanh',input_shape=(10,1))) #u units는 노드갯수 activation은 sigmoid/tanh/relu 다양하게 해봄 \n",
        "model.add(Dense(1,activation='linear'))\n",
        "model.summary()"
      ],
      "execution_count": null,
      "outputs": []
    },
    {
      "cell_type": "code",
      "metadata": {
        "id": "-cCdGqMQCOfo"
      },
      "source": [
        "# 모델설정 \n",
        "model.compile(optimizer='Adam', loss='mse', metrics=['acc']) #평균제곱오차함수 = mse     정확도확인metrics=['acc']"
      ],
      "execution_count": null,
      "outputs": []
    },
    {
      "cell_type": "code",
      "metadata": {
        "id": "cdwfbiy2CdAT"
      },
      "source": [
        "# 학습하기\n",
        "model.fit(_train_data,_train_label,epochs=100) # epochs는 학습횟수 \n",
        "# 정확도가 0이된다. 왜? 랜덤수라서 맞지 않는다. (추세를 예측하는 것 <= 기존의 데이터를 학습해서  )\n"
      ],
      "execution_count": null,
      "outputs": []
    },
    {
      "cell_type": "code",
      "metadata": {
        "id": "iBvjfoVUDMZA"
      },
      "source": [
        "# 성능 평가 \n",
        "model.evaluate(_test_data,_test_label)"
      ],
      "execution_count": null,
      "outputs": []
    },
    {
      "cell_type": "code",
      "metadata": {
        "id": "giZ4EPKfDj73"
      },
      "source": [
        "# 그래프 출력 \n",
        "result = model.predict(_test_data)\n",
        "result_range = np.arange(len(_train_label), len(_train_label)+len(result))\n",
        "result_range\n",
        "\n",
        "plt.figure(figsize=(10,5))\n",
        "plt.xlabel('time')\n",
        "plt.ylabel('value')\n",
        "plt.plot(result_range,_test_label, color='orange',label='label')\n",
        "plt.plot(result_range, result, color='blue',label='result')\n",
        "plt.show()"
      ],
      "execution_count": null,
      "outputs": []
    }
  ]
}