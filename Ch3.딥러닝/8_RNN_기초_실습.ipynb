{
  "nbformat": 4,
  "nbformat_minor": 0,
  "metadata": {
    "colab": {
      "name": "8_RNN 기초 실습.ipynb",
      "provenance": [],
      "collapsed_sections": [],
      "authorship_tag": "ABX9TyP23djwX1Kc3ZLS/BETmx9D",
      "include_colab_link": true
    },
    "kernelspec": {
      "name": "python3",
      "display_name": "Python 3"
    },
    "language_info": {
      "name": "python"
    }
  },
  "cells": [
    {
      "cell_type": "markdown",
      "metadata": {
        "id": "view-in-github",
        "colab_type": "text"
      },
      "source": [
        "<a href=\"https://colab.research.google.com/github/rio1004666/Colab/blob/main/Ch3.%EB%94%A5%EB%9F%AC%EB%8B%9D/8_RNN_%EA%B8%B0%EC%B4%88_%EC%8B%A4%EC%8A%B5.ipynb\" target=\"_parent\"><img src=\"https://colab.research.google.com/assets/colab-badge.svg\" alt=\"Open In Colab\"/></a>"
      ]
    },
    {
      "cell_type": "code",
      "metadata": {
        "id": "nK9Jlu4xbi9H"
      },
      "source": [
        "\"\"\"\n",
        "날짜: 2021/10/28\n",
        "이름: 강병화\n",
        "내용: RNN 개념 실습하기 \n",
        "\"\"\"\n",
        "\n",
        "import tensorflow as tf\n",
        "import numpy as np\n",
        "import matplotlib.pyplot as plt\n",
        "\n",
        "from tensorflow.keras.models import Sequential\n",
        "from tensorflow.keras.layers import SimpleRNN, Flatten, Dense\n",
        "\n"
      ],
      "execution_count": null,
      "outputs": []
    },
    {
      "cell_type": "code",
      "metadata": {
        "id": "Cmu6liU1cPXO"
      },
      "source": [
        "# 데이터 준비\n",
        "# traffic: [1,0,0,0]\n",
        "# ticket:  [0,1,0,0]\n",
        "# fine:    [0,0,1,0]\n",
        "# was :    [0,0,0,1]\n",
        "data = np.array([[[1,0,0,0],[0,1,0,0],[0,0,1,0]],\n",
        "                 [[1,0,0,0],[0,0,0,1],[0,0,1,0]]])\n",
        "label = np.array([0,1])\n",
        "data.shape"
      ],
      "execution_count": null,
      "outputs": []
    },
    {
      "cell_type": "code",
      "metadata": {
        "id": "6XN3NYKIdMVE"
      },
      "source": [
        "# 모델 구성하기\n",
        "model = Sequential()\n",
        "model.add(SimpleRNN(units=4,activation='sigmoid',input_shape=(3, 4)))\n",
        "model.add(Dense(1, activation='sigmoid'))\n",
        "model.summary()"
      ],
      "execution_count": null,
      "outputs": []
    },
    {
      "cell_type": "code",
      "metadata": {
        "id": "MxYobgA8d13H"
      },
      "source": [
        "# 모델 설정\n",
        "model.compile(optimizer='Adam', loss='mse')"
      ],
      "execution_count": null,
      "outputs": []
    },
    {
      "cell_type": "code",
      "metadata": {
        "id": "u2k23-n0d8u9"
      },
      "source": [
        "# 학습하기 \n",
        "model.fit(data,label,epochs=1000)"
      ],
      "execution_count": null,
      "outputs": []
    },
    {
      "cell_type": "code",
      "metadata": {
        "id": "1yd_kG9ReTzD",
        "colab": {
          "base_uri": "https://localhost:8080/"
        },
        "outputId": "6eab13f6-855e-4176-ccd0-87d3b74b8579"
      },
      "source": [
        "# 테스트하기 \n",
        "result = model.predict(data)\n",
        "result"
      ],
      "execution_count": null,
      "outputs": [
        {
          "output_type": "execute_result",
          "data": {
            "text/plain": [
              "array([[0.13701716],\n",
              "       [0.8644867 ]], dtype=float32)"
            ]
          },
          "metadata": {},
          "execution_count": 9
        }
      ]
    }
  ]
}