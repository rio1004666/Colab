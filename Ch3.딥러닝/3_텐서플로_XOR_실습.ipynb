{
  "nbformat": 4,
  "nbformat_minor": 0,
  "metadata": {
    "colab": {
      "name": "3_텐서플로 XOR 실습.ipynb",
      "provenance": [],
      "collapsed_sections": [],
      "authorship_tag": "ABX9TyM+eWgUyszhRPLDpGA1fmLo",
      "include_colab_link": true
    },
    "kernelspec": {
      "name": "python3",
      "display_name": "Python 3"
    },
    "language_info": {
      "name": "python"
    },
    "accelerator": "GPU"
  },
  "cells": [
    {
      "cell_type": "markdown",
      "metadata": {
        "id": "view-in-github",
        "colab_type": "text"
      },
      "source": [
        "<a href=\"https://colab.research.google.com/github/rio1004666/Colab/blob/main/Ch3.%EB%94%A5%EB%9F%AC%EB%8B%9D/3_%ED%85%90%EC%84%9C%ED%94%8C%EB%A1%9C_XOR_%EC%8B%A4%EC%8A%B5.ipynb\" target=\"_parent\"><img src=\"https://colab.research.google.com/assets/colab-badge.svg\" alt=\"Open In Colab\"/></a>"
      ]
    },
    {
      "cell_type": "code",
      "metadata": {
        "id": "CKpQ5UyQZ7yf"
      },
      "source": [
        "\"\"\"\n",
        "\n",
        "날짜: 2021/10/26\n",
        "이름: 강병화\n",
        "내용: 텐서플로 XOR 실습하기 \n",
        "\n",
        "\"\"\"\n",
        "import tensorflow as tf\n",
        "import numpy as np\n",
        "from tensorflow.keras.models import Sequential\n",
        "from tensorflow.keras.layers import Dense\n",
        "from tensorflow.keras.optimizers import Adam\n",
        "\n",
        "from tensorflow.keras.losses import mse"
      ],
      "execution_count": null,
      "outputs": []
    },
    {
      "cell_type": "code",
      "metadata": {
        "id": "GEccV6fhcbSP"
      },
      "source": [
        "# 학습 데이터\n",
        "data = np.array([[0,0], [0,1], [1,0], [1,1]])\n",
        "label = np.array([[0],[1],[1],[0]])"
      ],
      "execution_count": null,
      "outputs": []
    },
    {
      "cell_type": "code",
      "metadata": {
        "id": "Km--OaNBcxBq",
        "colab": {
          "base_uri": "https://localhost:8080/"
        },
        "outputId": "928f9d21-b0e1-40ed-f9d3-ccfd5dd592aa"
      },
      "source": [
        "# 학습 모델 설계\n",
        "\n",
        "model = Sequential()\n",
        "model.add(Dense(units=2,input_dim=2,activation='sigmoid')) # 입력층과 히든층 2개씩 곱해서 4개 + 편향값 + 2개 \n",
        "model.add(Dense(units=1,activation='sigmoid')) # 히든층 2개와 출력층 1개 곱해서 2개 + 편향값 1개 \n",
        "\n",
        "# 모델 확인\n",
        "\n",
        "model.summary()"
      ],
      "execution_count": null,
      "outputs": [
        {
          "output_type": "stream",
          "name": "stdout",
          "text": [
            "Model: \"sequential\"\n",
            "_________________________________________________________________\n",
            "Layer (type)                 Output Shape              Param #   \n",
            "=================================================================\n",
            "dense (Dense)                (None, 2)                 6         \n",
            "_________________________________________________________________\n",
            "dense_1 (Dense)              (None, 1)                 3         \n",
            "=================================================================\n",
            "Total params: 9\n",
            "Trainable params: 9\n",
            "Non-trainable params: 0\n",
            "_________________________________________________________________\n"
          ]
        }
      ]
    },
    {
      "cell_type": "code",
      "metadata": {
        "id": "rxmxlkSud6DS"
      },
      "source": [
        "# 모델설정 \n",
        "model.compile(optimizer='Adam',loss=mse,metrics=['acc'])"
      ],
      "execution_count": null,
      "outputs": []
    },
    {
      "cell_type": "code",
      "metadata": {
        "id": "NiCfrZlFeH0x"
      },
      "source": [
        "# 학습하기\n",
        "model.fit(data, label, epochs=10000)"
      ],
      "execution_count": null,
      "outputs": []
    },
    {
      "cell_type": "code",
      "metadata": {
        "id": "frMHJeNHePbD"
      },
      "source": [
        "# 테스트하기 \n",
        "result = model.predict([[0,0],[1,0],[0,1],[1,1]]) # 결과값은 활성화함수가 시그모이드 함수이기때문에 0~1사이의 실수값이다 그래서 근삿값으로 0과1로 출력된다. XOR연산으로 \n",
        "result"
      ],
      "execution_count": null,
      "outputs": []
    }
  ]
}