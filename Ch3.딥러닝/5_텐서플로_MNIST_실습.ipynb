{
  "nbformat": 4,
  "nbformat_minor": 0,
  "metadata": {
    "colab": {
      "name": "5_텐서플로 MNIST 실습.ipynb",
      "provenance": [],
      "collapsed_sections": [],
      "mount_file_id": "1A4MK1VCV1cWW2ZHDsnMMNd2nSqnvV469",
      "authorship_tag": "ABX9TyPLIixvCdehr8Z7sLvE0AZe",
      "include_colab_link": true
    },
    "kernelspec": {
      "name": "python3",
      "display_name": "Python 3"
    },
    "language_info": {
      "name": "python"
    }
  },
  "cells": [
    {
      "cell_type": "markdown",
      "metadata": {
        "id": "view-in-github",
        "colab_type": "text"
      },
      "source": [
        "<a href=\"https://colab.research.google.com/github/rio1004666/Colab/blob/main/Ch3.%EB%94%A5%EB%9F%AC%EB%8B%9D/5_%ED%85%90%EC%84%9C%ED%94%8C%EB%A1%9C_MNIST_%EC%8B%A4%EC%8A%B5.ipynb\" target=\"_parent\"><img src=\"https://colab.research.google.com/assets/colab-badge.svg\" alt=\"Open In Colab\"/></a>"
      ]
    },
    {
      "cell_type": "code",
      "metadata": {
        "id": "2BtLc7klP41n"
      },
      "source": [
        "\"\"\"\n",
        "날짜 : 2021/10/26\n",
        "이름 : 강병화\n",
        "날짜 : 텐서플로 iris 실습하기\n",
        "\"\"\"\n",
        "\n",
        "import tensorflow as tf\n",
        "import numpy as np\n",
        "import pandas as pd\n",
        "import matplotlib.pyplot as plt\n",
        "from tensorflow.keras.datasets.mnist import load_data\n",
        "from tensorflow.keras.models import Sequential\n",
        "from tensorflow.keras.layers import Dense, Flatten\n",
        "from tensorflow.keras.optimizers import Adam\n",
        "from tensorflow.keras.losses import mse\n",
        "from tensorflow.keras.utils import to_categorical\n",
        "from sklearn.preprocessing import LabelEncoder\n",
        "from sklearn.model_selection import train_test_split\n",
        "from sklearn.metrics import accuracy_score\n",
        "from PIL import Image"
      ],
      "execution_count": null,
      "outputs": []
    },
    {
      "cell_type": "code",
      "metadata": {
        "id": "eLS9ZEecROS4"
      },
      "source": [
        "# 데이터 불러오기\n",
        "# (mnist_train_data, mnist_train_label),(mnist_test_data,mnist_test_label) = load_data()\n",
        "# mnist_train_data.shape\n",
        "\n",
        "df_mnist_train = pd.read_csv('/content/drive/MyDrive/Colab Notebooks/file/mnist_train.csv')\n",
        "df_mnist_test  = pd.read_csv('/content/drive/MyDrive/Colab Notebooks/file/mnist_test.csv')\n",
        "\n",
        "mnist_train_data  = df_mnist_train.iloc[:, 1:] / 255\n",
        "mnist_train_label = df_mnist_train.iloc[:, 0]\n",
        "\n",
        "mnist_test_data  = df_mnist_test.iloc[:, 1:] / 255\n",
        "mnist_test_label = df_mnist_test.iloc[:, 0]\n",
        "mnist_train_data[]"
      ],
      "execution_count": null,
      "outputs": []
    },
    {
      "cell_type": "code",
      "metadata": {
        "id": "SF3VlZOtRkXz"
      },
      "source": [
        "# 샘플 출력\n",
        "random_idx = np.random.randint(60000, size=6)\n",
        "print(random_idx)\n",
        "\n",
        "plt.figure(figsize=(5, 5))\n",
        "\n",
        "\n",
        "for i, idx in enumerate(random_idx):\n",
        "  plt.subplot(3, 3, i+1)\n",
        "  label = mnist_train_label[idx]\n",
        "  plt.imshow(mnist_train_data[idx, :])\n",
        "  plt.title('number : %d' % label)\n",
        "  plt.axis('off')"
      ],
      "execution_count": null,
      "outputs": []
    },
    {
      "cell_type": "code",
      "metadata": {
        "id": "mPOurcn_Tb2g",
        "colab": {
          "base_uri": "https://localhost:8080/"
        },
        "outputId": "8bca682f-6aaf-4b5a-8d3b-04c1b018278b"
      },
      "source": [
        "#  라벨 원-핫코드 변환 \n",
        "\n",
        "mnist_train_label = to_categorical(mnist_train_label)\n",
        "mnist_test_label  = to_categorical(mnist_test_label)\n",
        "mnist_train_label[1]"
      ],
      "execution_count": null,
      "outputs": [
        {
          "output_type": "execute_result",
          "data": {
            "text/plain": [
              "array([1., 0., 0., 0., 0., 0., 0., 0., 0., 0.], dtype=float32)"
            ]
          },
          "metadata": {},
          "execution_count": 110
        }
      ]
    },
    {
      "cell_type": "code",
      "metadata": {
        "id": "ZhPO829IU5Nh"
      },
      "source": [
        "model = Sequential()\n",
        "model.add(Dense(units=784, input_dim=784, activation='sigmoid'))\n",
        "model.add(Dense(units=10, activation='sigmoid'))\n",
        "\n",
        "model.summary()"
      ],
      "execution_count": null,
      "outputs": []
    },
    {
      "cell_type": "code",
      "metadata": {
        "id": "xzncB1ePV2fm"
      },
      "source": [
        "# 모델설정 \n",
        "model.compile(loss='categorical_crossentropy',\n",
        "              optimizer='Adam',\n",
        "              metrics=['acc'])"
      ],
      "execution_count": null,
      "outputs": []
    },
    {
      "cell_type": "code",
      "metadata": {
        "id": "eMELgISeWIja"
      },
      "source": [
        "# 학습하기 \n",
        "model.fit(mnist_train_data, mnist_train_label, epochs=10)"
      ],
      "execution_count": null,
      "outputs": []
    },
    {
      "cell_type": "code",
      "metadata": {
        "id": "awiUVrj5ZKWj"
      },
      "source": [
        "# 평가하기 \n",
        "result = model.evaluate(mnist_test_data, mnist_test_label)\n",
        "result"
      ],
      "execution_count": null,
      "outputs": []
    },
    {
      "cell_type": "code",
      "metadata": {
        "id": "I_hj3-EjdCFQ"
      },
      "source": [
        "# 테스트 하기\n",
        "\n",
        "img1 = Image.open('/content/drive/MyDrive/Colab Notebooks/file/mnist_num1.jpg')\n",
        "img2 = Image.open('/content/drive/MyDrive/Colab Notebooks/file/mnist_num2.jpg')\n",
        "img3 = Image.open('/content/drive/MyDrive/Colab Notebooks/file/mnist_num3.jpg')\n",
        "img4 = Image.open('/content/drive/MyDrive/Colab Notebooks/file/mnist_num4.jpg')\n",
        "img5 = Image.open('/content/drive/MyDrive/Colab Notebooks/file/mnist_num5.jpg')"
      ],
      "execution_count": null,
      "outputs": []
    },
    {
      "cell_type": "code",
      "metadata": {
        "id": "5goHzLX1doJt",
        "colab": {
          "base_uri": "https://localhost:8080/"
        },
        "outputId": "db583cb0-9341-4d5b-9a98-20da03a6864e"
      },
      "source": [
        "# 이미지 픽셀 데이터 변환 \n",
        "img1_px = np.array(img1)\n",
        "img2_px = np.array(img2)\n",
        "img3_px = np.array(img3)\n",
        "img4_px = np.array(img4)\n",
        "img5_px = np.array(img5)\n",
        "\n",
        "img1_px_reshaped = np.reshape(img1_px, (1, 784)) # 28 x 28\n",
        "img2_px_reshaped = np.reshape(img2_px, (1, 784))\n",
        "img3_px_reshaped = np.reshape(img3_px, (1, 784))\n",
        "img4_px_reshaped = np.reshape(img4_px, (1, 784))\n",
        "img5_px_reshaped = np.reshape(img5_px, (1, 784))\n",
        "\n",
        "img_arr = np.array([img1_px_reshaped, img2_px_reshaped, img3_px_reshaped, img4_px_reshaped, img5_px_reshaped])\n",
        "img_arr = img_arr / 255\n",
        "img1_px_reshaped"
      ],
      "execution_count": null,
      "outputs": [
        {
          "output_type": "execute_result",
          "data": {
            "text/plain": [
              "array([[  0,   0,   0,   0,   0,   0,   0,   0,   0,  11,   0,   2,   0,\n",
              "          0,  16,   0,   0,   8,   0,   7,   0,   8,   0,   0,   0,   0,\n",
              "          0,   0,   0,   0,   0,   0,   0,   0,   0,   0,   0,   0,   9,\n",
              "          0,  11,   0,   0,   7,   0,   3,   0,   6,   0,   3,   0,   6,\n",
              "          0,   0,   0,   0,   0,   0,   0,   0,   0,   0,   0,   0,   0,\n",
              "          0,   2,   0,   8,   0,   0,   9,   6,  10,   0,   0,   0,   8,\n",
              "          0,   3,   0,   0,   0,   0,   0,   0,   0,   0,   0,   0,   0,\n",
              "          0,   5,   4,   0,   1,   0,   1,  13,   0,   0,   0,   8,   0,\n",
              "          0,   7,   0,   2,   0,   0,   0,   0,   0,   0,   0,   0,   0,\n",
              "          0,   0,   0,   0,   4,   0,  13,   0,   2,   0,  26,  22,   0,\n",
              "          7,   3,   0,   0,   0,   9,   0,   0,   0,   0,   0,   0,   0,\n",
              "          0,   0,   0,   0,   0,   0,   0,   4,   0,   0,  10,   0, 170,\n",
              "        192,  40,   0,   0,   6,   0,   0,   1,   0,   0,   0,   0,   0,\n",
              "          0,   0,   0,   0,   0,   0,   0,   3,   0,   3,   0,   0,   7,\n",
              "         96, 255, 255,  52,   0,   0,   3,   6,   3,   0,   0,   0,   0,\n",
              "          0,   0,   0,   0,   0,   0,   0,   0,   0,   2,   0,   0,  13,\n",
              "          0,   0, 203, 241, 138,   0,   8,   7,   0,   0,  15,   0,   0,\n",
              "          0,   0,   0,   0,   0,   0,   0,   0,   0,   0,   0,   0,   0,\n",
              "          6,   7,   1,   0, 220, 247, 120,   0,   4,   0,   0,   4,   0,\n",
              "          0,   0,   0,   0,   0,   0,   0,   0,   0,   0,   0,   0,   0,\n",
              "          6,   0,   0,   0,  11,  26, 251, 255, 128,   0,   1,   0,   0,\n",
              "          5,   0,   1,   0,   0,   0,   0,   0,   0,   0,   0,   0,   0,\n",
              "          0,   0,   0,   7,   2,   0,   3,  28, 255, 255, 128,   2,   0,\n",
              "          0,   1,   5,   0,   2,   0,   0,   0,   0,   0,   0,   0,   0,\n",
              "          0,   0,   0,   0,   0,   7,   8,   0,   2,  38, 252, 250, 108,\n",
              "          2,   0,   0,   3,   1,   0,   3,   0,   0,   0,   0,   0,   0,\n",
              "          0,   0,   0,   0,   0,   0,   1,   0,   0,   0,  14,  90, 255,\n",
              "        255,  72,   0,   2,   0,   3,   0,   0,   4,   0,   0,   0,   0,\n",
              "          0,   0,   0,   0,   0,   0,   0,   0,   6,   0,   0,   0,   4,\n",
              "        134, 255, 255,  35,   0,   6,   0,   1,   0,   1,   2,   0,   0,\n",
              "          0,   0,   0,   0,   0,   0,   0,   0,   0,   0,   0,   1,   8,\n",
              "          2,   0, 177, 245, 230,  11,   0,   8,   0,   0,   0,   5,   0,\n",
              "          0,   0,   0,   0,   0,   0,   0,   0,   0,   0,   0,   0,   0,\n",
              "          0,   1,   0,   7, 235, 246, 195,   2,   0,   8,   0,   0,   0,\n",
              "          8,   0,   0,   0,   0,   0,   0,   0,   0,   0,   0,   0,   0,\n",
              "          0,   5,   0,   0,   7,   0, 211, 243, 114,   6,   0,   0,   0,\n",
              "          0,   4,   6,   0,   0,   0,   0,   0,   0,   0,   0,   0,   0,\n",
              "          0,   0,   0,   0,   4,   0,   0,   2, 227, 255, 100,   3,   0,\n",
              "          5,  10,   0,   0,   1,   1,   0,   0,   0,   0,   0,   0,   0,\n",
              "          0,   0,   0,   0,   0,   0,   9,   3,   0,   0, 221, 252,  86,\n",
              "          0,   0,   0,   8,   0,   0,   1,   7,   0,   0,   0,   0,   0,\n",
              "          0,   0,   0,   0,   0,   0,   0,   1,   8,   0,   0,   8, 211,\n",
              "        250,  87,   7,   0,   0,   0,   0,   1,   5,   0,   0,   0,   0,\n",
              "          0,   0,   0,   0,   0,   0,   0,   0,   0,   0,   6,   0,   0,\n",
              "         23, 222, 255,  83,   4,   5,   8,   3,   0,   4,   5,   0,   0,\n",
              "          0,   0,   0,   0,   0,   0,   0,   0,   0,   0,   0,   0,   8,\n",
              "          0,   0,  19, 212, 255,  74,   0,   0,   9,   7,   0,   1,   6,\n",
              "          0,   0,   0,   0,   0,   0,   0,   0,   0,   0,   0,   0,   0,\n",
              "          1,   3,   0,   0,   0, 158, 251, 126,  16,   0,   0,   2,   0,\n",
              "          0,   3,   4,   0,   0,   0,   0,   0,   0,   0,   0,   0,   0,\n",
              "          0,   0,   5,   0,   0,  17,   0, 109, 254, 217,  86,  21,   0,\n",
              "          0,   7,   0,   0,   0,   0,   0,   0,   0,   0,   0,   0,   0,\n",
              "          0,   0,   0,   0,   0,   0,   1,   5,   0,   3,  98, 206, 210,\n",
              "         11,   0,  14,   0,   2,   0,   8,   0,   0,   0,   0,   0,   0,\n",
              "          0,   0,   0,   0,   0,   0,   4,   0,   0,  10,   7,   0,   0,\n",
              "         10,  14,   0,   8,   0,   0,  12,   0,   1,   0,   0,   0,   0,\n",
              "          0,   0,   0,   0,   0,   0,   0,   0,   6,   5,   0,   0,   0,\n",
              "          2,   0,   0,   0,   3,  13,   0,   5,   8,   0,   0,   0,   0,\n",
              "          0,   0,   0,   0,   0,   0,   0,   0,   0,   0,   0,   3,  10,\n",
              "          1,   0,   0,   5,   6,  12,   6,   0,   0,  13,   0,   0,   6,\n",
              "          0,   0,   0,   0]], dtype=uint8)"
            ]
          },
          "metadata": {},
          "execution_count": 113
        }
      ]
    },
    {
      "cell_type": "code",
      "metadata": {
        "id": "B-T81UvCeMVi"
      },
      "source": [
        "# 새로운 이미지 테스트 하기\n",
        "result = model.predict(img_arr)\n",
        "result.round()\n"
      ],
      "execution_count": null,
      "outputs": []
    }
  ]
}