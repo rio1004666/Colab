{
  "nbformat": 4,
  "nbformat_minor": 0,
  "metadata": {
    "colab": {
      "name": "13_스마트카 모델 실습.ipynb",
      "provenance": [],
      "collapsed_sections": [],
      "mount_file_id": "1chOZtH-XFVwpl0cEC0oOjHA21FNgzNlI",
      "authorship_tag": "ABX9TyOzNv+dVjPOZvv0mc2WW1cC",
      "include_colab_link": true
    },
    "kernelspec": {
      "name": "python3",
      "display_name": "Python 3"
    },
    "language_info": {
      "name": "python"
    }
  },
  "cells": [
    {
      "cell_type": "markdown",
      "metadata": {
        "id": "view-in-github",
        "colab_type": "text"
      },
      "source": [
        "<a href=\"https://colab.research.google.com/github/rio1004666/Colab/blob/main/Ch3.%EB%94%A5%EB%9F%AC%EB%8B%9D/13_%EC%8A%A4%EB%A7%88%ED%8A%B8%EC%B9%B4_%EB%AA%A8%EB%8D%B8_%EC%8B%A4%EC%8A%B5.ipynb\" target=\"_parent\"><img src=\"https://colab.research.google.com/assets/colab-badge.svg\" alt=\"Open In Colab\"/></a>"
      ]
    },
    {
      "cell_type": "code",
      "metadata": {
        "id": "-eK77MjO4UNz"
      },
      "source": [
        "import tensorflow as tf\n",
        "import pandas as pd \n",
        "\n",
        "from keras.models import load_model\n",
        "from tensorflow.keras.utils import to_categorical\n",
        "from sklearn.preprocessing import StandardScaler\n",
        "from sklearn.model_selection import train_test_split\n",
        "\n",
        "\n"
      ],
      "execution_count": 1,
      "outputs": []
    },
    {
      "cell_type": "code",
      "metadata": {
        "id": "kuWnEkkR4s23"
      },
      "source": [
        "# 데이터 불러오기 \n",
        "df = pd.read_csv('/content/drive/MyDrive/Colab Notebooks/file/CarDrivingIncidentInfo_Test.csv')\n",
        "df"
      ],
      "execution_count": null,
      "outputs": []
    },
    {
      "cell_type": "code",
      "metadata": {
        "id": "PZVmQWNI5Ayb"
      },
      "source": [
        "# 데이터 전처리 \n",
        "df_train = df.iloc[:,:-1].values \n",
        "df_label = df.iloc[:,-1].values # 마지막 데이터가 사고유무\n",
        "X_train, X_test, Y_train , Y_test = train_test_split(df_train,df_label,\n",
        "                                                      test_size=0.2,\n",
        "                                                      random_state=1) # 20프로의 테스트 데이터 즉 6개  \n",
        "# 0 은 안전 1은 주의사항 2는 긴급 [1,0,0][0,1,0][0,0,1]\n",
        "Y_train = to_categorical(Y_train)\n",
        "Y_test = to_categorical(Y_test)\n",
        "sc = StandardScaler()\n",
        "X_train = sc.fit_transform(X_train) #-1~1사이의 실수로 바꾼다 정규화 \n",
        "X_test = sc.transform(X_test) "
      ],
      "execution_count": 5,
      "outputs": []
    },
    {
      "cell_type": "code",
      "metadata": {
        "id": "HnZVq9bF5Cbo"
      },
      "source": [
        "# 모델 불러오기 \n",
        "model = load_model('/content/drive/MyDrive/Colab Notebooks/model/smartcar_model.h5')\n",
        "model"
      ],
      "execution_count": null,
      "outputs": []
    },
    {
      "cell_type": "code",
      "metadata": {
        "colab": {
          "base_uri": "https://localhost:8080/"
        },
        "id": "23K6SPqt5Ncg",
        "outputId": "68c8f649-8f23-4575-eed2-f77494e3fc2b"
      },
      "source": [
        "# 모델 평가 \n",
        "result = model.evaluate(X_train,Y_train)\n",
        "result"
      ],
      "execution_count": 6,
      "outputs": [
        {
          "output_type": "stream",
          "name": "stdout",
          "text": [
            "1/1 [==============================] - 0s 487ms/step - loss: 0.1806 - acc: 0.9167\n"
          ]
        },
        {
          "output_type": "execute_result",
          "data": {
            "text/plain": [
              "[0.18056873977184296, 0.9166666865348816]"
            ]
          },
          "metadata": {},
          "execution_count": 6
        }
      ]
    },
    {
      "cell_type": "code",
      "metadata": {
        "id": "sBDSzkvi518a"
      },
      "source": [
        "# 테스트하기 \n",
        "\n",
        "pre = model.predict(X_test)\n",
        "pre.round() # 6개의 데이터 [1,0,0] = 안전 [0,1,0] = 주의 [0,0,1] = 위험 "
      ],
      "execution_count": null,
      "outputs": []
    }
  ]
}