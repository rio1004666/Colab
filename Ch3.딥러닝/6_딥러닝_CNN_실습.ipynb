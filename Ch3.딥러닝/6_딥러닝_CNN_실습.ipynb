{
  "nbformat": 4,
  "nbformat_minor": 0,
  "metadata": {
    "colab": {
      "name": "6_딥러닝 CNN 실습.ipynb",
      "provenance": [],
      "collapsed_sections": [],
      "mount_file_id": "1lvPnI_tILraYfqh5RI0GI9j3fkHyDb9R",
      "authorship_tag": "ABX9TyONyLnEQ+qWObkEdClkrDjL",
      "include_colab_link": true
    },
    "kernelspec": {
      "name": "python3",
      "display_name": "Python 3"
    },
    "language_info": {
      "name": "python"
    },
    "accelerator": "GPU"
  },
  "cells": [
    {
      "cell_type": "markdown",
      "metadata": {
        "id": "view-in-github",
        "colab_type": "text"
      },
      "source": [
        "<a href=\"https://colab.research.google.com/github/rio1004666/Colab/blob/main/Ch3.%EB%94%A5%EB%9F%AC%EB%8B%9D/6_%EB%94%A5%EB%9F%AC%EB%8B%9D_CNN_%EC%8B%A4%EC%8A%B5.ipynb\" target=\"_parent\"><img src=\"https://colab.research.google.com/assets/colab-badge.svg\" alt=\"Open In Colab\"/></a>"
      ]
    },
    {
      "cell_type": "code",
      "metadata": {
        "id": "31xhQnyVhbtf"
      },
      "source": [
        "\"\"\"\n",
        "날짜 : 2021/10/26\n",
        "이름 : 강병화\n",
        "날짜 : 딥러닝 CNN 실습하기\n",
        "\"\"\"\n",
        "import tensorflow as tf\n",
        "import numpy as np\n",
        "import pandas as pd\n",
        "import matplotlib.pyplot as plt\n",
        "from tensorflow.keras.datasets.cifar10 import load_data\n",
        "from tensorflow.keras.models import Sequential\n",
        "from tensorflow.keras.layers import Dense, Flatten, Conv2D, MaxPool2D, Dropout\n",
        "from tensorflow.keras.optimizers import Adam\n",
        "from tensorflow.keras.losses import mse\n",
        "from tensorflow.keras.utils import to_categorical\n",
        "from sklearn.preprocessing import LabelEncoder\n",
        "from sklearn.model_selection import train_test_split\n",
        "from sklearn.metrics import accuracy_score\n",
        "from PIL import Image\n"
      ],
      "execution_count": null,
      "outputs": []
    },
    {
      "cell_type": "code",
      "metadata": {
        "colab": {
          "base_uri": "https://localhost:8080/"
        },
        "id": "H45VOxezisAF",
        "outputId": "56d9018c-4508-4a06-b987-80b47cb09d1e"
      },
      "source": [
        "# 데이터 불러오기\n",
        "(cifar_train_data, cifar_train_label), (cifar_test_data, cifar_test_label) = load_data()\n",
        "cifar_train_data.shape \n"
      ],
      "execution_count": null,
      "outputs": [
        {
          "output_type": "execute_result",
          "data": {
            "text/plain": [
              "(50000, 32, 32, 3)"
            ]
          },
          "metadata": {},
          "execution_count": 22
        }
      ]
    },
    {
      "cell_type": "code",
      "metadata": {
        "id": "F-5nZPzKw0IY"
      },
      "source": [
        "plt.title(cifar_train_label[0])\n",
        "plt.imshow(cifar_train_data[0])\n",
        "plt.show()"
      ],
      "execution_count": null,
      "outputs": []
    },
    {
      "cell_type": "code",
      "metadata": {
        "id": "vTo7JI7Djqe2"
      },
      "source": [
        "# 데이터 샘플 확인\n",
        "label_names = ['Airplane', 'Automobile', 'Bird', 'Cat', 'Deer', 'Dog', 'Frog', 'Horse', 'Ship']\n",
        "random_idx = np.random.randint(50000, size=9)\n",
        "\n",
        "plt.figure(figsize=(5,5))\n",
        "\n",
        "for i, idx in enumerate(random_idx):\n",
        "  plt.subplot(3, 3, i+1)\n",
        "  label = cifar_train_label[idx][0]\n",
        "  plt.imshow(cifar_train_data[idx, :])\n",
        "  plt.title(label_names[label])\n",
        "  plt.axis('off')"
      ],
      "execution_count": null,
      "outputs": []
    },
    {
      "cell_type": "code",
      "metadata": {
        "id": "zza7MA4Pli52"
      },
      "source": [
        "# 학습 데이터, 라벨(원- 핫 코드) \n",
        "cifar_train_data = cifar_train_data / 255\n",
        "cifar_test_data = cifar_test_data / 255\n",
        "\n",
        "cifar_train_label= to_categorical(cifar_train_label)\n",
        "cifar_test_label = to_categorical(cifar_test_label)"
      ],
      "execution_count": null,
      "outputs": []
    },
    {
      "cell_type": "code",
      "metadata": {
        "id": "hNLpbC8XmGh9"
      },
      "source": [
        "#학습모델\n",
        "model = Sequential()\n",
        "\n",
        "#CNN층\n",
        "model.add(Conv2D(32,(3,3),padding='same',activation='relu', input_shape=(32, 32, 3)))\n",
        "model.add(Conv2D(filters=32, kernel_size=3, padding='same', activation='relu'))\n",
        "model.add(MaxPool2D(pool_size=(2,2), strides=2, padding='same'))\n",
        "model.add(Dropout(0.2))\n",
        "\n",
        "#FCNN층(일반 딥러닝 입력층,은닉층, 출력층)\n",
        "model.add(Flatten())\n",
        "model.add(Dense(256, activation='relu'))\n",
        "model.add(Dense(10, activation='softmax'))\n",
        "\n",
        "model.summary()\n"
      ],
      "execution_count": null,
      "outputs": []
    },
    {
      "cell_type": "code",
      "metadata": {
        "id": "vpqzbSaNsng2"
      },
      "source": [
        "# 모델 설정\n",
        "model.compile(optimizer='Adam',loss='categorical_crossentropy', metrics=['acc'])"
      ],
      "execution_count": null,
      "outputs": []
    },
    {
      "cell_type": "code",
      "metadata": {
        "id": "OHr0MG17s0jU"
      },
      "source": [
        "# 학습하기\n",
        "model.fit(cifar_train_data, cifar_train_label, epochs=20)"
      ],
      "execution_count": null,
      "outputs": []
    },
    {
      "cell_type": "code",
      "metadata": {
        "id": "9ZkjUUuxvguy"
      },
      "source": [
        "# 평가하기 \n",
        "model.evaluate(cifar_test_data,cifar_test_label)"
      ],
      "execution_count": null,
      "outputs": []
    },
    {
      "cell_type": "code",
      "metadata": {
        "id": "Zymb7RQ4yQ3f"
      },
      "source": [
        "# 모델저장\n",
        "model.save('/content/drive/MyDrive/Colab Notebooks/model/cifar10.h5')"
      ],
      "execution_count": null,
      "outputs": []
    }
  ]
}