{
  "nbformat": 4,
  "nbformat_minor": 0,
  "metadata": {
    "colab": {
      "name": "4_텐서플로 iris 실습.ipynb",
      "provenance": [],
      "collapsed_sections": [],
      "mount_file_id": "1Geghav3bA63o-Aa4LPOu05Vjw56rcP72",
      "authorship_tag": "ABX9TyNf2jywK3zgI3nOPvmoNsTo",
      "include_colab_link": true
    },
    "kernelspec": {
      "name": "python3",
      "display_name": "Python 3"
    },
    "language_info": {
      "name": "python"
    }
  },
  "cells": [
    {
      "cell_type": "markdown",
      "metadata": {
        "id": "view-in-github",
        "colab_type": "text"
      },
      "source": [
        "<a href=\"https://colab.research.google.com/github/rio1004666/Colab/blob/main/Ch3.%EB%94%A5%EB%9F%AC%EB%8B%9D/4_%ED%85%90%EC%84%9C%ED%94%8C%EB%A1%9C_iris_%EC%8B%A4%EC%8A%B5.ipynb\" target=\"_parent\"><img src=\"https://colab.research.google.com/assets/colab-badge.svg\" alt=\"Open In Colab\"/></a>"
      ]
    },
    {
      "cell_type": "code",
      "metadata": {
        "id": "pTJom_EcjE5_"
      },
      "source": [
        "\"\"\"\n",
        "날짜 : 2021/10/26\n",
        "이름 : 박승필\n",
        "내용 : 텐서플로 iris 딥러닝 실습하기\n",
        "\"\"\"\n",
        "\n",
        "import tensorflow as tf\n",
        "import numpy as np\n",
        "\n",
        "import pandas as pd\n",
        "\n",
        "from tensorflow.keras.models import Sequential\n",
        "from tensorflow.keras.layers import Dense\n",
        "from tensorflow.keras.optimizers import Adam\n",
        "from tensorflow.keras.losses import mse\n",
        "from tensorflow.keras.utils import to_categorical\n",
        "from sklearn.preprocessing import LabelEncoder\n",
        "from sklearn.model_selection import train_test_split"
      ],
      "execution_count": null,
      "outputs": []
    },
    {
      "cell_type": "code",
      "metadata": {
        "id": "pKyGnk6Mjyuy"
      },
      "source": [
        "# 데이터 불러오기 \n",
        "df_iris = pd.read_csv('/content/drive/MyDrive/Colab Notebooks/file/iris.csv')\n",
        "df_iris"
      ],
      "execution_count": null,
      "outputs": []
    },
    {
      "cell_type": "code",
      "metadata": {
        "id": "jEYg86BkkYv7"
      },
      "source": [
        "# 학습데이터\n",
        "iris_data = df_iris[['sepal.length','sepal.width','petal.length','petal.width']] # 입력데이터 4개가된다. \n",
        "iris_label = df_iris[['variety']]"
      ],
      "execution_count": null,
      "outputs": []
    },
    {
      "cell_type": "code",
      "metadata": {
        "id": "rN-LVJ8DlxEU"
      },
      "source": [
        "# 원-핫 인코딩(문자열로 된 라벨을 0,1로 부호화)\n",
        "encoder = LabelEncoder()\n",
        "encoder.fit(iris_label)\n",
        "\n",
        "transformed_label = encoder.transform(iris_label) # 정답이 setosa , virginica 등의 문자열이라서 0,1로 변환해주어야한다.\n",
        "iris_label_cate = to_categorical(transformed_label) # 3개의 값으로 벛꽃종류를 나누어버린다. \n",
        "iris_label_cate"
      ],
      "execution_count": null,
      "outputs": []
    },
    {
      "cell_type": "code",
      "metadata": {
        "id": "GYzWYhntm6QA"
      },
      "source": [
        "# 학습데이터, 학습 라벨 \n",
        "train_data, test_data, train_label, test_label = train_test_split(iris_data, iris_label_cate) # 과적합방지하기위해 데이터 섞어준다. \n",
        "train_label"
      ],
      "execution_count": null,
      "outputs": []
    },
    {
      "cell_type": "code",
      "metadata": {
        "id": "3UDJMDzAngE3"
      },
      "source": [
        "# 학습모델 설계(딥러닝에서는 모델설계를하고 머신러닝에서는 모델을 그대로 쓰면된다.)\n",
        "model = Sequential()\n",
        "model.add(Dense(units=4,input_dim=4,activation='sigmoid'))\n",
        "model.add(Dense(units=3,activation='sigmoid')) # 출력값은 3개다 \n",
        "model.summary()"
      ],
      "execution_count": null,
      "outputs": []
    },
    {
      "cell_type": "code",
      "metadata": {
        "id": "CRj4MMepoPgU"
      },
      "source": [
        "# 모델 설정 \n",
        "# loss='mean_squared_error' : 수치예측\n",
        "# loss='categorical_crossentropy' : 다중분류 (3가지 벛꽃중 하나이기때문에 다중분류)\n",
        "# loss='binary_crossentropy' : 이진분류 \n",
        "model.compile(loss='categorical_crossentropy', optimizer='Adam',metrics=['acc'])"
      ],
      "execution_count": null,
      "outputs": []
    },
    {
      "cell_type": "code",
      "metadata": {
        "id": "QHFUAUF_pDCH"
      },
      "source": [
        "# 학습하기 \n",
        "model.fit(train_data,train_label,epochs=1000)"
      ],
      "execution_count": null,
      "outputs": []
    },
    {
      "cell_type": "code",
      "metadata": {
        "colab": {
          "base_uri": "https://localhost:8080/"
        },
        "id": "9eHW7cXJpcpI",
        "outputId": "3bf69178-5914-4d67-bfaa-5824867524d5"
      },
      "source": [
        "# 평가하기 \n",
        "result = model.evaluate(test_data,test_label) # loss 범위와 정확성 점수가 나온다. \n",
        "result"
      ],
      "execution_count": null,
      "outputs": [
        {
          "output_type": "stream",
          "name": "stdout",
          "text": [
            "2/2 [==============================] - 0s 7ms/step - loss: 0.1939 - acc: 0.9474\n"
          ]
        },
        {
          "output_type": "execute_result",
          "data": {
            "text/plain": [
              "[0.19393059611320496, 0.9473684430122375]"
            ]
          },
          "metadata": {},
          "execution_count": 14
        }
      ]
    }
  ]
}