{
  "nbformat": 4,
  "nbformat_minor": 0,
  "metadata": {
    "colab": {
      "name": "7_딥러닝 Cifar10 모델 실습.ipynb",
      "provenance": [],
      "collapsed_sections": [],
      "mount_file_id": "1imUja0geSYUy8MYxx-V0qf_TYEXits88",
      "authorship_tag": "ABX9TyPoh5H9zDGb0Y1rEpOc/T0o",
      "include_colab_link": true
    },
    "kernelspec": {
      "name": "python3",
      "display_name": "Python 3"
    },
    "language_info": {
      "name": "python"
    }
  },
  "cells": [
    {
      "cell_type": "markdown",
      "metadata": {
        "id": "view-in-github",
        "colab_type": "text"
      },
      "source": [
        "<a href=\"https://colab.research.google.com/github/rio1004666/Colab/blob/main/Ch3.%EB%94%A5%EB%9F%AC%EB%8B%9D/7_%EB%94%A5%EB%9F%AC%EB%8B%9D_Cifar10_%EB%AA%A8%EB%8D%B8_%EC%8B%A4%EC%8A%B5.ipynb\" target=\"_parent\"><img src=\"https://colab.research.google.com/assets/colab-badge.svg\" alt=\"Open In Colab\"/></a>"
      ]
    },
    {
      "cell_type": "code",
      "metadata": {
        "id": "X3Dia8SFzcRR"
      },
      "source": [
        "\"\"\"\n",
        "날짜 : 2021/10/26\n",
        "이름 : 강병화\n",
        "날짜 : 딥러닝 Cifar10 모델 실습하기\n",
        "\"\"\"\n",
        "import tensorflow as tf\n",
        "\n",
        "from tensorflow.keras.datasets.cifar10 import load_data\n",
        "from tensorflow.keras.utils import to_categorical\n",
        "from tensorflow.keras.models import load_model\n"
      ],
      "execution_count": null,
      "outputs": []
    },
    {
      "cell_type": "code",
      "metadata": {
        "id": "ANwh_wy6z3xb"
      },
      "source": [
        "# 데이터 불러오기\n",
        "(cifar_train_data, cifar_train_label), (cifar_test_data, cifar_test_label) = load_data()\n",
        "cifar_train_data.shape \n"
      ],
      "execution_count": null,
      "outputs": []
    },
    {
      "cell_type": "code",
      "metadata": {
        "id": "-Snc-tphz_dB"
      },
      "source": [
        "# 학습 데이터, 라벨(원- 핫 코드) \n",
        "cifar_train_data = cifar_train_data / 255\n",
        "cifar_test_data = cifar_test_data / 255\n",
        "\n",
        "cifar_train_label= to_categorical(cifar_train_label)\n",
        "cifar_test_label = to_categorical(cifar_test_label)"
      ],
      "execution_count": null,
      "outputs": []
    },
    {
      "cell_type": "code",
      "metadata": {
        "id": "k-StEpZC0BpW"
      },
      "source": [
        "model = load_model('/content/drive/MyDrive/Colab Notebooks/model/cifar10.h5') # 저장한 학습모델을 불러와서 수행 \n",
        "model.summary()"
      ],
      "execution_count": null,
      "outputs": []
    },
    {
      "cell_type": "code",
      "metadata": {
        "colab": {
          "base_uri": "https://localhost:8080/"
        },
        "id": "g86Ht2SW0RNn",
        "outputId": "154d7e41-3735-4743-c830-05d08af6150a"
      },
      "source": [
        "# 평가하기 \n",
        "model.evaluate(cifar_test_data,cifar_test_label)\n"
      ],
      "execution_count": null,
      "outputs": [
        {
          "output_type": "stream",
          "name": "stdout",
          "text": [
            "313/313 [==============================] - 7s 23ms/step - loss: 0.7053 - acc: 0.7720\n"
          ]
        },
        {
          "output_type": "execute_result",
          "data": {
            "text/plain": [
              "[0.7052936553955078, 0.7720000147819519]"
            ]
          },
          "metadata": {},
          "execution_count": 6
        }
      ]
    }
  ]
}