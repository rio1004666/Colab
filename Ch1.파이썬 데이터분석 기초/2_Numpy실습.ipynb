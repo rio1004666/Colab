{
  "nbformat": 4,
  "nbformat_minor": 0,
  "metadata": {
    "colab": {
      "name": "2_Numpy실습.ipynb",
      "provenance": [],
      "collapsed_sections": [],
      "authorship_tag": "ABX9TyP3z0s99N9KTo0eY3Ype0RA",
      "include_colab_link": true
    },
    "kernelspec": {
      "name": "python3",
      "display_name": "Python 3"
    },
    "language_info": {
      "name": "python"
    },
    "accelerator": "GPU"
  },
  "cells": [
    {
      "cell_type": "markdown",
      "metadata": {
        "id": "view-in-github",
        "colab_type": "text"
      },
      "source": [
        "<a href=\"https://colab.research.google.com/github/rio1004666/Colab/blob/main/Ch1.%ED%8C%8C%EC%9D%B4%EC%8D%AC%20%EB%8D%B0%EC%9D%B4%ED%84%B0%EB%B6%84%EC%84%9D%20%EA%B8%B0%EC%B4%88/2_Numpy%EC%8B%A4%EC%8A%B5.ipynb\" target=\"_parent\"><img src=\"https://colab.research.google.com/assets/colab-badge.svg\" alt=\"Open In Colab\"/></a>"
      ]
    },
    {
      "cell_type": "code",
      "metadata": {
        "id": "HCvCkSWLAkGB"
      },
      "source": [
        "\"\"\"\n",
        "날짜: 2021/10/18\n",
        "이름: 강병화\n",
        "내용: 파이썬 Numpy 패키지 실습하기 \n",
        "\n",
        "Numpy 라이브러리 \n",
        "\n",
        "- 고성능의 수치계산을 위한 파이썬 라이브러리 '\n",
        "- 파이썬의 기본 리스트보다 월등한 연산 성능 \n",
        "- 행렬이나 대규모 다차원 배열 처리를 지원 \n",
        "\n",
        "\"\"\"\n",
        "import numpy as np"
      ],
      "execution_count": null,
      "outputs": []
    },
    {
      "cell_type": "code",
      "metadata": {
        "colab": {
          "base_uri": "https://localhost:8080/"
        },
        "id": "Ryuhtz34BUkf",
        "outputId": "0af3cde2-9ab8-45e8-c7e9-12cab884d65f"
      },
      "source": [
        "# numpy 벡터 \n",
        "v1 = np.array([1,2,3,4,5])\n",
        "print('v1 : ', v1)\n",
        "v2 = np.arange(5)\n",
        "print('v2 : ', v2)\n",
        "v3 = np.arange(10)\n",
        "print('v3 : ', v3)"
      ],
      "execution_count": null,
      "outputs": [
        {
          "output_type": "stream",
          "name": "stdout",
          "text": [
            "v1 :  [1 2 3 4 5]\n",
            "v2 :  [0 1 2 3 4]\n",
            "v3 :  [0 1 2 3 4 5 6 7 8 9]\n"
          ]
        }
      ]
    },
    {
      "cell_type": "code",
      "metadata": {
        "id": "fx1N-LQ_CE6w"
      },
      "source": [
        "# 0 ~ 1 사이의 임의의 실수 100개 \n",
        "result1 = np.random.rand(100)\n",
        "# 표준정규분포를 따르는 실수 100개\n",
        "result2 = np.random.randn(100)\n",
        "# 0 ~ 9 사이의 임의의 정수\n",
        "result3 = np.random.randint(10)\n"
      ],
      "execution_count": null,
      "outputs": []
    },
    {
      "cell_type": "code",
      "metadata": {
        "id": "7fLm14REBxPZ"
      },
      "source": [
        "result1, result2, result3\n"
      ],
      "execution_count": null,
      "outputs": []
    },
    {
      "cell_type": "code",
      "metadata": {
        "id": "RzTP_NdfDDMb"
      },
      "source": [
        "# numpy 행렬\n",
        "\n",
        "m1 = np.array([[1,2],[3,4]])\n",
        "print(m1)\n",
        "\n",
        "m2 = np.array([[1,2,3],[4,5,6],[7,8,9]])\n",
        "print(m2)\n",
        "\n",
        "m3 = np.ones([2,4])\n",
        "print(m3)\n",
        "m4 = np.zeros([3,2])\n",
        "print(m4)"
      ],
      "execution_count": null,
      "outputs": []
    },
    {
      "cell_type": "code",
      "metadata": {
        "id": "0jsWKET0DDTI"
      },
      "source": [
        "# 행렬 인덱싱\n",
        "mat = np.array([[1,2,3,4],[5,6,7,8],[9,10,11,12]])\n",
        "print(mat)\n",
        "\n",
        "print(mat[0,0])\n",
        "print(mat[0,:])\n",
        "\n",
        "print(mat[:,0])\n",
        "print(mat[0:2,0:2])\n",
        "\n",
        "print(mat[:,0:2])\n",
        "\n",
        "print(mat[:, 2:4])\n",
        "\n",
        "print(mat[1:3, 1:3])\n",
        "\n",
        "\n",
        "\n"
      ],
      "execution_count": null,
      "outputs": []
    },
    {
      "cell_type": "code",
      "metadata": {
        "id": "FKq44L_bDDab"
      },
      "source": [
        ""
      ],
      "execution_count": null,
      "outputs": []
    },
    {
      "cell_type": "code",
      "metadata": {
        "id": "bhP5xKMpDDhQ"
      },
      "source": [
        ""
      ],
      "execution_count": null,
      "outputs": []
    },
    {
      "cell_type": "code",
      "metadata": {
        "id": "UF4MfGORDBeQ"
      },
      "source": [
        ""
      ],
      "execution_count": null,
      "outputs": []
    }
  ]
}