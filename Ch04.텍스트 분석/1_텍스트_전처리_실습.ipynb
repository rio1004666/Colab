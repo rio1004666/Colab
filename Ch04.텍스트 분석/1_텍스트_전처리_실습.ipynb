{
  "nbformat": 4,
  "nbformat_minor": 0,
  "metadata": {
    "colab": {
      "name": "1_텍스트 전처리 실습.ipynb",
      "provenance": [],
      "collapsed_sections": [],
      "mount_file_id": "11b5hDcKZshMIMGvlI3b59C47dfjo9WaG",
      "authorship_tag": "ABX9TyPlxtBzdPrZEJx2rIdCzFyR",
      "include_colab_link": true
    },
    "kernelspec": {
      "name": "python3",
      "display_name": "Python 3"
    },
    "language_info": {
      "name": "python"
    }
  },
  "cells": [
    {
      "cell_type": "markdown",
      "metadata": {
        "id": "view-in-github",
        "colab_type": "text"
      },
      "source": [
        "<a href=\"https://colab.research.google.com/github/rio1004666/Colab/blob/main/Ch04.%ED%85%8D%EC%8A%A4%ED%8A%B8%20%EB%B6%84%EC%84%9D/1_%ED%85%8D%EC%8A%A4%ED%8A%B8_%EC%A0%84%EC%B2%98%EB%A6%AC_%EC%8B%A4%EC%8A%B5.ipynb\" target=\"_parent\"><img src=\"https://colab.research.google.com/assets/colab-badge.svg\" alt=\"Open In Colab\"/></a>"
      ]
    },
    {
      "cell_type": "code",
      "metadata": {
        "id": "S7BceLOWWVna"
      },
      "source": [
        "\"\"\"\n",
        "날짜: 2021/11/23\n",
        "이름: 강병화\n",
        "내용: 텍스트 분석 전처리 실습하기\n",
        "\"\"\"\n",
        "!pip install konlpy"
      ],
      "execution_count": null,
      "outputs": []
    },
    {
      "cell_type": "code",
      "metadata": {
        "id": "RieZpYcDXGOn"
      },
      "source": [
        "import pandas as pd\n",
        "import numpy as np\n",
        "import tensorflow as tf\n",
        "import matplotlib.pyplot as plt\n",
        "from tensorflow.keras.preprocessing.text import Tokenizer\n",
        "from tensorflow.keras.utils import to_categorical\n",
        "from keras.preprocessing.sequence import pad_sequences\n",
        "from konlpy.tag import Okt,Kkma\n",
        "from wordcloud import WordCloud\n",
        "import seaborn as sns"
      ],
      "execution_count": null,
      "outputs": []
    },
    {
      "cell_type": "code",
      "metadata": {
        "id": "6QE9FbhqYV57"
      },
      "source": [
        "# 꼬꼬마 형태소 분석기 생성\n",
        "kkma = Kkma()\n",
        "\n",
        "text = '나는 보리밥을 먹었다.'\n",
        "print('명사 : ', kkma.nouns(text))\n",
        "print('형태소 : ', kkma.morphs(text))\n",
        "print('품사 :', kkma.pos(text))"
      ],
      "execution_count": null,
      "outputs": []
    },
    {
      "cell_type": "code",
      "metadata": {
        "id": "Z4Iv6y0DYe-G"
      },
      "source": [
        "okt = Okt()\n",
        "text = '나는 보리밥을 먹었다.'\n",
        "print('명사: ' , okt.nouns(text))\n",
        "print('형태소: ' , okt.morphs(text))\n",
        "print('품사: ' , okt.pos(text))"
      ],
      "execution_count": null,
      "outputs": []
    },
    {
      "cell_type": "code",
      "metadata": {
        "id": "eDpQA8EUY5QD"
      },
      "source": [
        "##########################################################################\n",
        "# 토큰화(BoW)\n",
        "text = ['You are so beautiful',\n",
        "        'You are the best',\n",
        "        'I love dog',\n",
        "        'I drink coffee every morning',\n",
        "        'I hate you']\n",
        "tokenizer = Tokenizer()\n",
        "tokenizer.fit_on_texts(text)\n",
        "word_dic = tokenizer.word_index\n",
        "word_dic"
      ],
      "execution_count": null,
      "outputs": []
    },
    {
      "cell_type": "code",
      "metadata": {
        "id": "gHJEeGs0Z_y2"
      },
      "source": [
        "# 텍스트 벡터화 \n",
        "\n",
        "sequences = tokenizer.texts_to_sequences(text)\n",
        "sequences"
      ],
      "execution_count": null,
      "outputs": []
    },
    {
      "cell_type": "code",
      "metadata": {
        "id": "iEH2LwLUaYh-"
      },
      "source": [
        "# 패딩 처리\n",
        "padd_sequences = pad_sequences(sequences, padding='post')\n",
        "padd_sequences"
      ],
      "execution_count": null,
      "outputs": []
    },
    {
      "cell_type": "code",
      "metadata": {
        "id": "9UuFeB1xa_33"
      },
      "source": [
        "#################################################################################\n",
        "# 텍스트 탐색 분석\n",
        "train_data = pd.read_table('/content/drive/MyDrive/Colab Notebooks/file/movie_review_train.txt')\n",
        "train_data\n"
      ],
      "execution_count": null,
      "outputs": []
    },
    {
      "cell_type": "code",
      "metadata": {
        "id": "4XijLH4jcRwm"
      },
      "source": [
        "# 리뷰 길이 확인\n",
        "review_length = train_data['document'].astype(str).apply(len)\n",
        "review_length "
      ],
      "execution_count": null,
      "outputs": []
    },
    {
      "cell_type": "code",
      "metadata": {
        "id": "eCdRLHhygbhO"
      },
      "source": [
        "plt.hist(review_length, bins=200, alpha=0.5, color='r', label='word')\n",
        "plt.title('Length of review')\n",
        "plt.xlabel('Length of review')\n",
        "plt.ylabel('Count')"
      ],
      "execution_count": null,
      "outputs": []
    },
    {
      "cell_type": "code",
      "metadata": {
        "id": "iwE_5mbuhFXB"
      },
      "source": [
        "# 어휘 빈도 확인\n",
        "train_review = [review for review in train_data['document'] if type(review) is str]\n",
        "train_review\n",
        "\n",
        "wc = WordCloud(\n",
        "    font_path = '/content/drive/MyDrive/Colab Notebooks/file/malgun.ttf',\n",
        "    background_color = 'white'\n",
        ").generate(''.join(train_review))\n",
        "plt.imshow(wc, interpolation='bilinear')\n",
        "plt.show()"
      ],
      "execution_count": null,
      "outputs": []
    },
    {
      "cell_type": "code",
      "metadata": {
        "id": "AVRcn_U1iap3"
      },
      "source": [
        "# 긍정, 부정 비율 확인 \n",
        "fig, axe = plt.subplots(ncols=1)\n",
        "fig.set_size_inches(6, 3)\n",
        "sns.countplot(train_data['label'])"
      ],
      "execution_count": null,
      "outputs": []
    }
  ]
}