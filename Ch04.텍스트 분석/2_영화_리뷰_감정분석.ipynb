{
  "nbformat": 4,
  "nbformat_minor": 0,
  "metadata": {
    "colab": {
      "name": "2_영화 리뷰 감정분석.ipynb",
      "provenance": [],
      "collapsed_sections": [],
      "mount_file_id": "18H4WhDP1eUDQXB5L3wS31Eg4TBIW9Nlm",
      "authorship_tag": "ABX9TyOFlCxac2r1p6kVEUy/r3Ex",
      "include_colab_link": true
    },
    "kernelspec": {
      "name": "python3",
      "display_name": "Python 3"
    },
    "language_info": {
      "name": "python"
    },
    "accelerator": "GPU"
  },
  "cells": [
    {
      "cell_type": "markdown",
      "metadata": {
        "id": "view-in-github",
        "colab_type": "text"
      },
      "source": [
        "<a href=\"https://colab.research.google.com/github/rio1004666/Colab/blob/main/Ch04.%ED%85%8D%EC%8A%A4%ED%8A%B8%20%EB%B6%84%EC%84%9D/2_%EC%98%81%ED%99%94_%EB%A6%AC%EB%B7%B0_%EA%B0%90%EC%A0%95%EB%B6%84%EC%84%9D.ipynb\" target=\"_parent\"><img src=\"https://colab.research.google.com/assets/colab-badge.svg\" alt=\"Open In Colab\"/></a>"
      ]
    },
    {
      "cell_type": "code",
      "metadata": {
        "colab": {
          "base_uri": "https://localhost:8080/"
        },
        "id": "6lYeQFcxjeG9",
        "outputId": "534043c0-c7d9-4bf7-fe39-d0adfd25d9bb"
      },
      "source": [
        "\"\"\"\n",
        "날짜: 2021/11/23\n",
        "이름: 강병화\n",
        "내용: 영화 리뷰 감성분석 실습하기\n",
        "\"\"\"\n",
        "\n",
        "!pip install konlpy"
      ],
      "execution_count": null,
      "outputs": [
        {
          "output_type": "stream",
          "name": "stdout",
          "text": [
            "Requirement already satisfied: konlpy in /usr/local/lib/python3.7/dist-packages (0.5.2)\n",
            "Requirement already satisfied: tweepy>=3.7.0 in /usr/local/lib/python3.7/dist-packages (from konlpy) (3.10.0)\n",
            "Requirement already satisfied: JPype1>=0.7.0 in /usr/local/lib/python3.7/dist-packages (from konlpy) (1.3.0)\n",
            "Requirement already satisfied: lxml>=4.1.0 in /usr/local/lib/python3.7/dist-packages (from konlpy) (4.2.6)\n",
            "Requirement already satisfied: numpy>=1.6 in /usr/local/lib/python3.7/dist-packages (from konlpy) (1.19.5)\n",
            "Requirement already satisfied: colorama in /usr/local/lib/python3.7/dist-packages (from konlpy) (0.4.4)\n",
            "Requirement already satisfied: beautifulsoup4==4.6.0 in /usr/local/lib/python3.7/dist-packages (from konlpy) (4.6.0)\n",
            "Requirement already satisfied: typing-extensions in /usr/local/lib/python3.7/dist-packages (from JPype1>=0.7.0->konlpy) (3.10.0.2)\n",
            "Requirement already satisfied: requests-oauthlib>=0.7.0 in /usr/local/lib/python3.7/dist-packages (from tweepy>=3.7.0->konlpy) (1.3.0)\n",
            "Requirement already satisfied: six>=1.10.0 in /usr/local/lib/python3.7/dist-packages (from tweepy>=3.7.0->konlpy) (1.15.0)\n",
            "Requirement already satisfied: requests[socks]>=2.11.1 in /usr/local/lib/python3.7/dist-packages (from tweepy>=3.7.0->konlpy) (2.23.0)\n",
            "Requirement already satisfied: oauthlib>=3.0.0 in /usr/local/lib/python3.7/dist-packages (from requests-oauthlib>=0.7.0->tweepy>=3.7.0->konlpy) (3.1.1)\n",
            "Requirement already satisfied: urllib3!=1.25.0,!=1.25.1,<1.26,>=1.21.1 in /usr/local/lib/python3.7/dist-packages (from requests[socks]>=2.11.1->tweepy>=3.7.0->konlpy) (1.24.3)\n",
            "Requirement already satisfied: idna<3,>=2.5 in /usr/local/lib/python3.7/dist-packages (from requests[socks]>=2.11.1->tweepy>=3.7.0->konlpy) (2.10)\n",
            "Requirement already satisfied: chardet<4,>=3.0.2 in /usr/local/lib/python3.7/dist-packages (from requests[socks]>=2.11.1->tweepy>=3.7.0->konlpy) (3.0.4)\n",
            "Requirement already satisfied: certifi>=2017.4.17 in /usr/local/lib/python3.7/dist-packages (from requests[socks]>=2.11.1->tweepy>=3.7.0->konlpy) (2021.10.8)\n",
            "Requirement already satisfied: PySocks!=1.5.7,>=1.5.6 in /usr/local/lib/python3.7/dist-packages (from requests[socks]>=2.11.1->tweepy>=3.7.0->konlpy) (1.7.1)\n"
          ]
        }
      ]
    },
    {
      "cell_type": "code",
      "metadata": {
        "id": "64nDdvMbjyRw"
      },
      "source": [
        "import pickle , re\n",
        "import numpy as np\n",
        "import pandas as pd\n",
        "from konlpy.tag import Okt\n",
        "from tensorflow.keras.models import Sequential, load_model\n",
        "from tensorflow.keras.preprocessing.text import Tokenizer\n",
        "from tensorflow.keras.layers import Dense, Activation, Dropout, Embedding, LSTM\n",
        "from keras.preprocessing.sequence import pad_sequences"
      ],
      "execution_count": null,
      "outputs": []
    },
    {
      "cell_type": "code",
      "metadata": {
        "id": "z2ZZ9rx_lE7_"
      },
      "source": [
        "# 데이터 불러오기 \n",
        "train_data = pd.read_table('/content/drive/MyDrive/Colab Notebooks/file/movie_review_train.txt')\n",
        "test_data = pd.read_table('/content/drive/MyDrive/Colab Notebooks/file/movie_review_test.txt')\n",
        "train_data"
      ],
      "execution_count": null,
      "outputs": []
    },
    {
      "cell_type": "code",
      "metadata": {
        "colab": {
          "base_uri": "https://localhost:8080/"
        },
        "id": "vSjS4m2HkYNP",
        "outputId": "02bbc867-34d9-472a-995d-46d2b1db8c0e"
      },
      "source": [
        "# 전처리 함수 정의 \n",
        "okt = Okt()\n",
        "stop_words = ['은','는','을','를','이','가','하','것','들','의','에게','에서','있','되','등','한']\n",
        "def preprocessing(text):\n",
        "  \n",
        "  # 한글 텍스트 아닌것 제외 \n",
        "  \n",
        "  review_text = re.sub('[^가-힣ㄱ-ㅎㅏ-ㅣ\\\\s]','',str(text))\n",
        "  \n",
        "  # 문장 형태소 분석\n",
        "  \n",
        "  review_text = okt.morphs(review_text, stem=True)\n",
        "  \n",
        "  # 불용어 제거 \n",
        "  \n",
        "  word_review = [w for w in review_text if not w in stop_words]\n",
        "  \n",
        "  return word_review\n",
        "clean_train_review = []\n",
        "clean_test_review = []\n",
        "\n",
        "# 훈련 데이터 전처리 \n",
        "for review in train_data['document']:\n",
        "  clean_train_review.append(preprocessing(review))\n",
        "for review in test_data['document']:\n",
        "  clean_test_review.append(preprocessing(review))\n",
        "clean_train_review[:5]"
      ],
      "execution_count": 45,
      "outputs": [
        {
          "output_type": "execute_result",
          "data": {
            "text/plain": [
              "[['아', '더빙', '진짜', '짜증나다', '목소리'],\n",
              " ['흠', '포스터', '보고', '초딩', '영화', '줄', '오버', '연기', '조차', '가볍다', '않다'],\n",
              " ['너', '무재', '밓었', '다그', '래서', '보다', '추천', '다'],\n",
              " ['교도소', '이야기', '구먼', '솔직하다', '재미', '없다', '평점', '조정'],\n",
              " ['사이',\n",
              "  '몬페',\n",
              "  '그',\n",
              "  '익살스럽다',\n",
              "  '연기',\n",
              "  '돋보이다',\n",
              "  '영화',\n",
              "  '스파이더맨',\n",
              "  '늙다',\n",
              "  '보이다',\n",
              "  '하다',\n",
              "  '커스틴',\n",
              "  '던스트',\n",
              "  '너무나도',\n",
              "  '이쁘다',\n",
              "  '보이다']]"
            ]
          },
          "metadata": {},
          "execution_count": 45
        }
      ]
    },
    {
      "cell_type": "code",
      "metadata": {
        "id": "RXGIpRQDkhV_"
      },
      "source": [
        "# 토큰화 \n",
        "tokenizer = Tokenizer()\n",
        "tokenizer.fit_on_texts(clean_train_review)\n",
        "train_sequences = tokenizer.texts_to_sequences(clean_train_review)\n",
        "test_sequences = tokenizer.texts_to_sequences(clean_test_review)\n",
        "word_dic = tokenizer.word_index\n",
        "word_dic"
      ],
      "execution_count": null,
      "outputs": []
    },
    {
      "cell_type": "code",
      "metadata": {
        "id": "5vLow24HkhhJ"
      },
      "source": [
        "# 패딩\n",
        "train_inputs = pad_sequences(train_sequences,maxlen=10,padding='post') # 텍스트 10개짜리 패딩을 걸어서 학습시킴\n",
        "test_inputs = pad_sequences(test_sequences, maxlen=10,padding='post')\n",
        "train_labels = np.array(train_data['label'])\n",
        "test_labels = np.array(test_data['label'])\n",
        "\n",
        "print(train_inputs[0])\n",
        "print(train_labels[0])\n"
      ],
      "execution_count": null,
      "outputs": []
    },
    {
      "cell_type": "code",
      "metadata": {
        "id": "sLdF3-iTkhp2"
      },
      "source": [
        "# 모델생성\n",
        "model = Sequential()\n",
        "model.add(Embedding(30000,10)) # 30000개의 단어를 입력할 수 있는 층  10개의 노드로 시작 \n",
        "model.add(LSTM(128))           # 순환신경망 - RNN모델에서 좀더 장기기억을 위한 순환 엣지를 하나 더 추가한 LSTM\n",
        "model.add(Dense(1,activation='sigmoid')) # 출력노드는 하나이다. \n",
        "model.summary()"
      ],
      "execution_count": null,
      "outputs": []
    },
    {
      "cell_type": "code",
      "metadata": {
        "id": "Z1c_LG9lkhw1"
      },
      "source": [
        "# 모델설정\n",
        "\n",
        "model.compile(loss='binary_crossentropy',\n",
        "               optimizer='adam',\n",
        "               metrics=['acc'])"
      ],
      "execution_count": null,
      "outputs": []
    },
    {
      "cell_type": "code",
      "metadata": {
        "id": "AA2Hxl8Fkh3F"
      },
      "source": [
        "# 모델학습\n",
        "\n",
        "model.fit(train_inputs,\n",
        "          train_labels,\n",
        "          epochs=10,\n",
        "          batch_size=128,\n",
        "          validation_split=0.2)"
      ],
      "execution_count": null,
      "outputs": []
    },
    {
      "cell_type": "code",
      "metadata": {
        "id": "yasD85hpkh9G"
      },
      "source": [
        "# 모델평가 \n",
        "\n",
        "result = model.evaluate(test_inputs,test_labels)\n",
        "result\n"
      ],
      "execution_count": null,
      "outputs": []
    },
    {
      "cell_type": "code",
      "metadata": {
        "id": "ZzcNh8fFkiDK"
      },
      "source": [
        "#\n",
        "def sentiment_predict(text):\n",
        "  \n",
        "  # 한글 텍스트 아닌것 제외 \n",
        "  \n",
        "  review_text = re.sub('[^가-힣ㄱ-ㅎㅏ-ㅣ\\\\s]','',str(text))\n",
        "  \n",
        "  # 문장 형태소 분석\n",
        "  \n",
        "  review_text = okt.morphs(review_text, stem=True)\n",
        "  \n",
        "  # 불용어 제거 \n",
        "  \n",
        "  word_review = [w for w in review_text if not w in stop_words]\n",
        "  \n",
        "  encoded = tokenizer.texts_to_sequences([word_review])\n",
        "  padded = pad_sequences(encoded, maxlen=10, padding='post')\n",
        "  score = float(model.predict(padded))\n",
        "  return score"
      ],
      "execution_count": null,
      "outputs": []
    },
    {
      "cell_type": "code",
      "metadata": {
        "id": "CHXxCRnIwDrP"
      },
      "source": [
        "while True:\n",
        "  review = input('리뷰 입력: ')\n",
        "  score = sentiment_predict(review)\n",
        "  if score > 0.5:\n",
        "    print('{:.2f}% 확률로 긍정 리뷰입니다.\\n'.format(score*100))\n",
        "  else:\n",
        "    print('{:.2f}% 확률로 부정 리뷰입니다.\\n'.format((1-score)*100))"
      ],
      "execution_count": null,
      "outputs": []
    }
  ]
}