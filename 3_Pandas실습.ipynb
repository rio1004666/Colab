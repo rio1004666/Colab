{
  "nbformat": 4,
  "nbformat_minor": 0,
  "metadata": {
    "colab": {
      "name": "3_Pandas실습.ipynb",
      "provenance": [],
      "collapsed_sections": [],
      "mount_file_id": "1w-C05Vcw81VO35cOD8f1a_uebjJHd9m5",
      "authorship_tag": "ABX9TyPK1yKrlNkadZKCbDZtHbrM",
      "include_colab_link": true
    },
    "kernelspec": {
      "name": "python3",
      "display_name": "Python 3"
    },
    "language_info": {
      "name": "python"
    }
  },
  "cells": [
    {
      "cell_type": "markdown",
      "metadata": {
        "id": "view-in-github",
        "colab_type": "text"
      },
      "source": [
        "<a href=\"https://colab.research.google.com/github/rio1004666/Colab/blob/main/3_Pandas%EC%8B%A4%EC%8A%B5.ipynb\" target=\"_parent\"><img src=\"https://colab.research.google.com/assets/colab-badge.svg\" alt=\"Open In Colab\"/></a>"
      ]
    },
    {
      "cell_type": "code",
      "metadata": {
        "id": "tmKFuHzCJMn5"
      },
      "source": [
        "\"\"\"\n",
        "날짜: 2021/10/18\n",
        "이름: 강병화\n",
        "내용: 파이썬  Pandas 실습하기 \n",
        "\n",
        "Pandas 라이브러리 \n",
        "- 파이썬 데이터 분석에 사용되는 DataFrame 자료구조를 지원하는 패키지 \n",
        "- DataFrame을 가공,처리를 지원하는 패키지 \n",
        "\"\"\"\n",
        "import pandas as pd\n",
        "# DataFrame 생성 \n",
        "df1 = pd.DataFrame([[1,2,3],[4,5,6],[7,8,9]])\n",
        "df1\n"
      ],
      "execution_count": null,
      "outputs": []
    },
    {
      "cell_type": "code",
      "metadata": {
        "id": "XZ9VrnkCKANT"
      },
      "source": [
        "# 컬럼명을 갖는 DataFrame\n",
        "df2 = pd.DataFrame({'uid':['a101','a102','a103','a104','a105'],\n",
        "                    'name':['김유신','김춘추','장보고','강감찬','이순신'],\n",
        "                    'age':[25,21,24,51,44]})\n",
        "df2"
      ],
      "execution_count": null,
      "outputs": []
    },
    {
      "cell_type": "code",
      "metadata": {
        "id": "rA778oXcKkRc"
      },
      "source": [
        "# DataFrame 출력\n",
        "print(df1[0][0])\n",
        "print(df1[0][1])\n",
        "print(df1[1][2])\n",
        "print(df2['uid'][0])\n",
        "print(df2['name'][0])\n",
        "print(df2['age'][0])\n",
        "\n"
      ],
      "execution_count": null,
      "outputs": []
    },
    {
      "cell_type": "code",
      "metadata": {
        "id": "y60tErQdMOE2"
      },
      "source": [
        "# CSV 파일 DataFrame 불러오기\n",
        "df_exam = pd.read_csv('/content/drive/MyDrive/Colab Notebooks/file/exam.csv')\n",
        "df_exam"
      ],
      "execution_count": null,
      "outputs": []
    },
    {
      "cell_type": "code",
      "metadata": {
        "id": "tUorvyQyNdB2"
      },
      "source": [
        "# 기본 요약 통계\n",
        "df_exam.describe()"
      ],
      "execution_count": null,
      "outputs": []
    },
    {
      "cell_type": "code",
      "metadata": {
        "colab": {
          "base_uri": "https://localhost:8080/",
          "height": 204
        },
        "id": "GDagsRuANf8N",
        "outputId": "8c96f5ee-8291-4a67-ceb9-15cb8c2150d6"
      },
      "source": [
        "# 상위 5개\n",
        "df_exam.head()"
      ],
      "execution_count": null,
      "outputs": [
        {
          "output_type": "execute_result",
          "data": {
            "text/html": [
              "<div>\n",
              "<style scoped>\n",
              "    .dataframe tbody tr th:only-of-type {\n",
              "        vertical-align: middle;\n",
              "    }\n",
              "\n",
              "    .dataframe tbody tr th {\n",
              "        vertical-align: top;\n",
              "    }\n",
              "\n",
              "    .dataframe thead th {\n",
              "        text-align: right;\n",
              "    }\n",
              "</style>\n",
              "<table border=\"1\" class=\"dataframe\">\n",
              "  <thead>\n",
              "    <tr style=\"text-align: right;\">\n",
              "      <th></th>\n",
              "      <th>id</th>\n",
              "      <th>class</th>\n",
              "      <th>math</th>\n",
              "      <th>english</th>\n",
              "      <th>science</th>\n",
              "    </tr>\n",
              "  </thead>\n",
              "  <tbody>\n",
              "    <tr>\n",
              "      <th>0</th>\n",
              "      <td>1</td>\n",
              "      <td>1</td>\n",
              "      <td>50</td>\n",
              "      <td>98</td>\n",
              "      <td>50</td>\n",
              "    </tr>\n",
              "    <tr>\n",
              "      <th>1</th>\n",
              "      <td>2</td>\n",
              "      <td>1</td>\n",
              "      <td>60</td>\n",
              "      <td>97</td>\n",
              "      <td>60</td>\n",
              "    </tr>\n",
              "    <tr>\n",
              "      <th>2</th>\n",
              "      <td>3</td>\n",
              "      <td>1</td>\n",
              "      <td>45</td>\n",
              "      <td>86</td>\n",
              "      <td>78</td>\n",
              "    </tr>\n",
              "    <tr>\n",
              "      <th>3</th>\n",
              "      <td>4</td>\n",
              "      <td>1</td>\n",
              "      <td>30</td>\n",
              "      <td>98</td>\n",
              "      <td>58</td>\n",
              "    </tr>\n",
              "    <tr>\n",
              "      <th>4</th>\n",
              "      <td>5</td>\n",
              "      <td>2</td>\n",
              "      <td>25</td>\n",
              "      <td>80</td>\n",
              "      <td>65</td>\n",
              "    </tr>\n",
              "  </tbody>\n",
              "</table>\n",
              "</div>"
            ],
            "text/plain": [
              "   id  class  math  english  science\n",
              "0   1      1    50       98       50\n",
              "1   2      1    60       97       60\n",
              "2   3      1    45       86       78\n",
              "3   4      1    30       98       58\n",
              "4   5      2    25       80       65"
            ]
          },
          "metadata": {},
          "execution_count": 10
        }
      ]
    },
    {
      "cell_type": "code",
      "metadata": {
        "colab": {
          "base_uri": "https://localhost:8080/",
          "height": 204
        },
        "id": "Jj81OEhwNgI9",
        "outputId": "870a8de2-66e8-4a18-d8a7-2ef9d4d57d5b"
      },
      "source": [
        "# 하위 5개 \n",
        "df_exam.tail()"
      ],
      "execution_count": null,
      "outputs": [
        {
          "output_type": "execute_result",
          "data": {
            "text/html": [
              "<div>\n",
              "<style scoped>\n",
              "    .dataframe tbody tr th:only-of-type {\n",
              "        vertical-align: middle;\n",
              "    }\n",
              "\n",
              "    .dataframe tbody tr th {\n",
              "        vertical-align: top;\n",
              "    }\n",
              "\n",
              "    .dataframe thead th {\n",
              "        text-align: right;\n",
              "    }\n",
              "</style>\n",
              "<table border=\"1\" class=\"dataframe\">\n",
              "  <thead>\n",
              "    <tr style=\"text-align: right;\">\n",
              "      <th></th>\n",
              "      <th>id</th>\n",
              "      <th>class</th>\n",
              "      <th>math</th>\n",
              "      <th>english</th>\n",
              "      <th>science</th>\n",
              "    </tr>\n",
              "  </thead>\n",
              "  <tbody>\n",
              "    <tr>\n",
              "      <th>15</th>\n",
              "      <td>16</td>\n",
              "      <td>4</td>\n",
              "      <td>58</td>\n",
              "      <td>98</td>\n",
              "      <td>65</td>\n",
              "    </tr>\n",
              "    <tr>\n",
              "      <th>16</th>\n",
              "      <td>17</td>\n",
              "      <td>5</td>\n",
              "      <td>65</td>\n",
              "      <td>68</td>\n",
              "      <td>98</td>\n",
              "    </tr>\n",
              "    <tr>\n",
              "      <th>17</th>\n",
              "      <td>18</td>\n",
              "      <td>5</td>\n",
              "      <td>80</td>\n",
              "      <td>78</td>\n",
              "      <td>90</td>\n",
              "    </tr>\n",
              "    <tr>\n",
              "      <th>18</th>\n",
              "      <td>19</td>\n",
              "      <td>5</td>\n",
              "      <td>89</td>\n",
              "      <td>68</td>\n",
              "      <td>87</td>\n",
              "    </tr>\n",
              "    <tr>\n",
              "      <th>19</th>\n",
              "      <td>20</td>\n",
              "      <td>5</td>\n",
              "      <td>78</td>\n",
              "      <td>83</td>\n",
              "      <td>58</td>\n",
              "    </tr>\n",
              "  </tbody>\n",
              "</table>\n",
              "</div>"
            ],
            "text/plain": [
              "    id  class  math  english  science\n",
              "15  16      4    58       98       65\n",
              "16  17      5    65       68       98\n",
              "17  18      5    80       78       90\n",
              "18  19      5    89       68       87\n",
              "19  20      5    78       83       58"
            ]
          },
          "metadata": {},
          "execution_count": 11
        }
      ]
    },
    {
      "cell_type": "code",
      "metadata": {
        "id": "0JIo3W0TNgSF"
      },
      "source": [
        "# DataFrame 인덱싱\n",
        "# loc - 컬럼명 기반 인덱싱\n",
        "df_math = df_exam.loc[:,'math']\n",
        "print(df_math)\n",
        "df_r1 = df_exam.loc[1:3,:]\n",
        "print(df_r1)\n",
        "df_r2 = df_exam.loc[10:,['math','english']]\n",
        "print(df_r2)\n",
        "df_r3 = df_exam.loc[1:4,['math','english','science']]\n",
        "print(df_r3)\n",
        "\n",
        "\n",
        "# iloc - 인덱스 기반 인덱싱 \n",
        "df_r4 = df_exam.iloc[1:5,2:4] # 인덱스번호로 인덱싱을 한다. \n",
        "print(df_r4)\n",
        "\n"
      ],
      "execution_count": null,
      "outputs": []
    },
    {
      "cell_type": "code",
      "metadata": {
        "id": "lpG4rmbNNgal"
      },
      "source": [
        " # 수학점수 60점이상 출력 \n",
        " df_exam[df_exam.math >= 60]"
      ],
      "execution_count": null,
      "outputs": []
    },
    {
      "cell_type": "code",
      "metadata": {
        "id": "EydyLWOCNnhu"
      },
      "source": [
        "# 수학점수 내림차순 \n",
        "df_exam.sort_values(by='math',ascending=False)"
      ],
      "execution_count": null,
      "outputs": []
    },
    {
      "cell_type": "code",
      "metadata": {
        "id": "IPNUYvV7NpZ0"
      },
      "source": [
        "# 영어점수 60~70 내림차순\n",
        "df_exam[(df_exam.english >= 60) & (df_exam.english <70)].sort_values(by='english', ascending=False)"
      ],
      "execution_count": null,
      "outputs": []
    },
    {
      "cell_type": "code",
      "metadata": {
        "id": "qcGlCqD6Nr_e"
      },
      "source": [
        "# 파생변수 \n",
        "df_exam['total'] = df_exam.math + df_exam.english + df_exam.science\n",
        "df_exam['mean'] = (df_exam.math + df_exam.english + df_exam.science)/3\n",
        "df_exam['grade'] = ['A' if m >= 90 else\n",
        "                    'B' if m >= 80 else\n",
        "                    'C' if m >= 70 else\n",
        "                    'D' if m >= 60 else 'F'\n",
        "                    for m in df_exam['mean']]\n",
        "df_exam\n"
      ],
      "execution_count": null,
      "outputs": []
    }
  ]
}