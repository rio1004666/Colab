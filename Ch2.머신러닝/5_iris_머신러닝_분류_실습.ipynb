{
  "nbformat": 4,
  "nbformat_minor": 0,
  "metadata": {
    "colab": {
      "name": "5_iris 머신러닝 분류 실습.ipynb",
      "provenance": [],
      "collapsed_sections": [],
      "mount_file_id": "1BtjjH9dLXoLXHcMZc5r86I7eMa1nWr_y",
      "authorship_tag": "ABX9TyNodvgfCgr5AMznFpOGz7Xy",
      "include_colab_link": true
    },
    "kernelspec": {
      "name": "python3",
      "display_name": "Python 3"
    },
    "language_info": {
      "name": "python"
    }
  },
  "cells": [
    {
      "cell_type": "markdown",
      "metadata": {
        "id": "view-in-github",
        "colab_type": "text"
      },
      "source": [
        "<a href=\"https://colab.research.google.com/github/rio1004666/Colab/blob/main/Ch2.%EB%A8%B8%EC%8B%A0%EB%9F%AC%EB%8B%9D/5_iris_%EB%A8%B8%EC%8B%A0%EB%9F%AC%EB%8B%9D_%EB%B6%84%EB%A5%98_%EC%8B%A4%EC%8A%B5.ipynb\" target=\"_parent\"><img src=\"https://colab.research.google.com/assets/colab-badge.svg\" alt=\"Open In Colab\"/></a>"
      ]
    },
    {
      "cell_type": "code",
      "metadata": {
        "id": "rWyoXDWrWx0T"
      },
      "source": [
        "\"\"\"\n",
        "날짜: 2021/10/19\n",
        "이름: 강병화\n",
        "내용: iris 머신러닝 분류 실습하기\n",
        "\"\"\"\n",
        "import pandas as pd\n",
        "from sklearn.linear_model import LogisticRegression\n",
        "from sklearn.model_selection import train_test_split\n",
        "from sklearn import metrics"
      ],
      "execution_count": null,
      "outputs": []
    },
    {
      "cell_type": "code",
      "metadata": {
        "id": "YOxGHCZzXf6_"
      },
      "source": [
        "# 데이터 불러오기\n",
        "df_iris = pd.read_csv('/content/drive/MyDrive/Colab Notebooks/file/iris.csv')\n",
        "df_iris"
      ],
      "execution_count": null,
      "outputs": []
    },
    {
      "cell_type": "code",
      "metadata": {
        "colab": {
          "base_uri": "https://localhost:8080/"
        },
        "id": "1p2gNkNSYA1D",
        "outputId": "db4bb56f-7f4e-474e-e0b4-4c0f88a6664b"
      },
      "source": [
        "# 학습 데이터, 라벨 분류\n",
        "iris_data = df_iris[['sepal.length','sepal.width','petal.length','petal.width']] # 학습데이터\n",
        "iris_label = df_iris['variety'] # 라벨 데이터 (정답데이터)\n",
        "\n",
        "train_data, test_data, train_label, test_label = train_test_split(iris_data, iris_label, train_size=0.8) # 과적합을 방지하기 위해 섞어준다. \n",
        "# train_size 는 훈련데이터 비율 \n",
        "# 섞지 않고 순서대로 동일한 결과가 나온다면 한쪽으로 치우쳐서 판단을 내릴 확률이 높아서 예측결과가 정확하지 않다.\n",
        "# 150개중 112개는 훈련데이터 나머지는 평가데이터 (테스트데이터)\n",
        "# test_data.shape  갯수를 알 수 있음 \n",
        "train_data.shape"
      ],
      "execution_count": null,
      "outputs": [
        {
          "output_type": "execute_result",
          "data": {
            "text/plain": [
              "(120, 4)"
            ]
          },
          "metadata": {},
          "execution_count": 45
        }
      ]
    },
    {
      "cell_type": "code",
      "metadata": {
        "id": "JaAEnL6mZ90q"
      },
      "source": [
        "# 학습하기 \n",
        "model = LogisticRegression()\n",
        "model.fit(train_data,train_label)"
      ],
      "execution_count": null,
      "outputs": []
    },
    {
      "cell_type": "code",
      "metadata": {
        "id": "TMKFW3M7aNKF"
      },
      "source": [
        "# 테스트하기 \n",
        "result = model.predict(test_data)\n",
        "result"
      ],
      "execution_count": null,
      "outputs": []
    },
    {
      "cell_type": "code",
      "metadata": {
        "colab": {
          "base_uri": "https://localhost:8080/"
        },
        "id": "cemkKkYMeYOc",
        "outputId": "98fbdf55-8f5d-458c-c446-0cec0cd6928f"
      },
      "source": [
        "# 성능 평가 \n",
        "score = metrics.accuracy_score(result, test_label)\n",
        "score\n"
      ],
      "execution_count": null,
      "outputs": [
        {
          "output_type": "execute_result",
          "data": {
            "text/plain": [
              "0.9333333333333333"
            ]
          },
          "metadata": {},
          "execution_count": 48
        }
      ]
    }
  ]
}