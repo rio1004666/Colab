{
  "nbformat": 4,
  "nbformat_minor": 0,
  "metadata": {
    "colab": {
      "name": "6_pima 머신러닝 분류 실습.ipynb",
      "provenance": [],
      "collapsed_sections": [],
      "mount_file_id": "1VVRwc5Kcxz3pKjbSendB0rqnyJrsrpJb",
      "authorship_tag": "ABX9TyM69OdGd3JAfnqbTpUCMgRu",
      "include_colab_link": true
    },
    "kernelspec": {
      "name": "python3",
      "display_name": "Python 3"
    },
    "language_info": {
      "name": "python"
    }
  },
  "cells": [
    {
      "cell_type": "markdown",
      "metadata": {
        "id": "view-in-github",
        "colab_type": "text"
      },
      "source": [
        "<a href=\"https://colab.research.google.com/github/rio1004666/Colab/blob/main/Ch2.%EB%A8%B8%EC%8B%A0%EB%9F%AC%EB%8B%9D/6_pima_%EB%A8%B8%EC%8B%A0%EB%9F%AC%EB%8B%9D_%EB%B6%84%EB%A5%98_%EC%8B%A4%EC%8A%B5.ipynb\" target=\"_parent\"><img src=\"https://colab.research.google.com/assets/colab-badge.svg\" alt=\"Open In Colab\"/></a>"
      ]
    },
    {
      "cell_type": "code",
      "metadata": {
        "id": "7h2MUKm5gvVM"
      },
      "source": [
        "\"\"\"\n",
        "날짜: 2021/10/19\n",
        "이름: 강병화\n",
        "내용: pima 분류 예측 실습하기 \n",
        "\"\"\"\n",
        "import pandas as pd\n",
        "from sklearn.linear_model import LogisticRegression\n",
        "from sklearn.model_selection import train_test_split\n",
        "from sklearn import metrics\n"
      ],
      "execution_count": null,
      "outputs": []
    },
    {
      "cell_type": "code",
      "metadata": {
        "id": "KJUrE6ogiXMD"
      },
      "source": [
        "df_pima = pd.read_csv('/content/drive/MyDrive/Colab Notebooks/file/pima-indians-diabetes.csv', header=None)\n",
        "df_pima"
      ],
      "execution_count": null,
      "outputs": []
    },
    {
      "cell_type": "code",
      "metadata": {
        "id": "Nm7ln_upjcxq"
      },
      "source": [
        "# 학습데이터, 학습라벨\n",
        "pima_data = df_pima.iloc[:,0:8] # 인덱스를 기반으로 슬라이싱하기위해 iloc사용 => 트레이닝데이터\n",
        "pima_label = df_pima.iloc[:,8] # 라벨데이터(정답데이터)\n",
        "\n",
        "train_data, test_data, train_label, test_label = train_test_split(pima_data, pima_label)"
      ],
      "execution_count": null,
      "outputs": []
    },
    {
      "cell_type": "code",
      "metadata": {
        "id": "UBo1mbPFlhxc"
      },
      "source": [
        "# 학습하기\n",
        "model = LogisticRegression() # 로지스틱회귀모델의 한계 (기초모델)\n",
        "model.fit(train_data, train_label) # 독립변수가 많아지면 힘들어진다. 고차원적인 서포터 벡터 머신으로 한다. \n"
      ],
      "execution_count": null,
      "outputs": []
    },
    {
      "cell_type": "code",
      "metadata": {
        "id": "klm36EFdmJKR"
      },
      "source": [
        "result = model.predict(test_data)"
      ],
      "execution_count": null,
      "outputs": []
    },
    {
      "cell_type": "code",
      "metadata": {
        "colab": {
          "base_uri": "https://localhost:8080/"
        },
        "id": "kDAUJheImO_k",
        "outputId": "1094c7f9-2f65-4a3b-a9ef-ab7d12556377"
      },
      "source": [
        "#성능평가\n",
        "metrics.accuracy_score(result, test_label)"
      ],
      "execution_count": null,
      "outputs": [
        {
          "output_type": "execute_result",
          "data": {
            "text/plain": [
              "0.7708333333333334"
            ]
          },
          "metadata": {},
          "execution_count": 32
        }
      ]
    }
  ]
}