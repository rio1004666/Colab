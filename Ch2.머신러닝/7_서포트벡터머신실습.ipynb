{
  "nbformat": 4,
  "nbformat_minor": 0,
  "metadata": {
    "colab": {
      "name": "7_서포트벡터머신실습.ipynb",
      "provenance": [],
      "collapsed_sections": [],
      "mount_file_id": "1VFsYSvP6jqa583OjxFhX6qtQ0KfHYZ5s",
      "authorship_tag": "ABX9TyOc6RjlHfLMBfAYOeXNNcaj",
      "include_colab_link": true
    },
    "kernelspec": {
      "name": "python3",
      "display_name": "Python 3"
    },
    "language_info": {
      "name": "python"
    }
  },
  "cells": [
    {
      "cell_type": "markdown",
      "metadata": {
        "id": "view-in-github",
        "colab_type": "text"
      },
      "source": [
        "<a href=\"https://colab.research.google.com/github/rio1004666/Colab/blob/main/Ch2.%EB%A8%B8%EC%8B%A0%EB%9F%AC%EB%8B%9D/7_%EC%84%9C%ED%8F%AC%ED%8A%B8%EB%B2%A1%ED%84%B0%EB%A8%B8%EC%8B%A0%EC%8B%A4%EC%8A%B5.ipynb\" target=\"_parent\"><img src=\"https://colab.research.google.com/assets/colab-badge.svg\" alt=\"Open In Colab\"/></a>"
      ]
    },
    {
      "cell_type": "code",
      "metadata": {
        "id": "2V6mNiWjPUy3"
      },
      "source": [
        "\"\"\"\n",
        "날짜: 2021/10/20\n",
        "이름: 강병화\n",
        "내용: 서포트벡터머신 실습하기\n",
        "\"\"\"\n",
        "import pandas as pd\n",
        "from sklearn import svm, metrics\n",
        "from sklearn.linear_model import LogisticRegression\n",
        "from sklearn.model_selection import train_test_split\n"
      ],
      "execution_count": null,
      "outputs": []
    },
    {
      "cell_type": "code",
      "metadata": {
        "id": "2Y3jaXZ5RQel"
      },
      "source": [
        ""
      ],
      "execution_count": null,
      "outputs": []
    },
    {
      "cell_type": "code",
      "metadata": {
        "id": "yUsIJ6UaP8JH"
      },
      "source": [
        "########## XOR 머신러닝 ##################\n",
        "train_data = [[0,0],[0,1],[1,0],[1,1]]\n",
        "train_label = [0,1,1,0]"
      ],
      "execution_count": null,
      "outputs": []
    },
    {
      "cell_type": "code",
      "metadata": {
        "colab": {
          "base_uri": "https://localhost:8080/"
        },
        "id": "_hvQ2x0jQ3vn",
        "outputId": "d901f5e9-1e0c-478e-a155-2a690ef7b25b"
      },
      "source": [
        "# 학습하기 \n",
        "# model = svm.SVC()\n",
        "model = LogisticRegression()\n",
        "model.fit(train_data,train_label)"
      ],
      "execution_count": null,
      "outputs": [
        {
          "output_type": "execute_result",
          "data": {
            "text/plain": [
              "LogisticRegression(C=1.0, class_weight=None, dual=False, fit_intercept=True,\n",
              "                   intercept_scaling=1, l1_ratio=None, max_iter=100,\n",
              "                   multi_class='auto', n_jobs=None, penalty='l2',\n",
              "                   random_state=None, solver='lbfgs', tol=0.0001, verbose=0,\n",
              "                   warm_start=False)"
            ]
          },
          "metadata": {},
          "execution_count": 8
        }
      ]
    },
    {
      "cell_type": "code",
      "metadata": {
        "colab": {
          "base_uri": "https://localhost:8080/"
        },
        "id": "C9T0oRXnRSJH",
        "outputId": "9873a636-e13f-416b-af8a-a31f145b4fb8"
      },
      "source": [
        "#테스트하기\n",
        "test_data = [[0,1],[1,1],[1,0]]\n",
        "result = model.predict(test_data)\n",
        "result\n"
      ],
      "execution_count": null,
      "outputs": [
        {
          "output_type": "execute_result",
          "data": {
            "text/plain": [
              "array([0, 0, 0])"
            ]
          },
          "metadata": {},
          "execution_count": 9
        }
      ]
    },
    {
      "cell_type": "code",
      "metadata": {
        "id": "pj2aXFjDR4-v"
      },
      "source": [
        "#################  iris 머신러닝  ###########################\n",
        "# 데이터 불러오기\n",
        "df_iris = pd.read_csv('/content/drive/MyDrive/Colab Notebooks/file/iris.csv')\n",
        "df_iris"
      ],
      "execution_count": null,
      "outputs": []
    },
    {
      "cell_type": "code",
      "metadata": {
        "id": "cFHFQiTfSBJ4"
      },
      "source": [
        "# 학습데이터\n",
        "iris_data = df_iris.iloc[:,0:4] # 학습데이터\n",
        "iris_label = df_iris.iloc[:,4]\n",
        "train_data, test_data, train_label, test_label = train_test_split(iris_data, iris_label)\n",
        "train_data"
      ],
      "execution_count": null,
      "outputs": []
    },
    {
      "cell_type": "code",
      "metadata": {
        "id": "uLFq_rrTSDbt"
      },
      "source": [
        "#학습하기\n",
        "model = svm.SVC()\n",
        "model.fit(train_data,train_label)"
      ],
      "execution_count": null,
      "outputs": []
    },
    {
      "cell_type": "code",
      "metadata": {
        "id": "4Oai3TeWSEE9"
      },
      "source": [
        "#테스트하기\n",
        "result = model.predict(test_data)\n",
        "result"
      ],
      "execution_count": null,
      "outputs": []
    },
    {
      "cell_type": "code",
      "metadata": {
        "colab": {
          "base_uri": "https://localhost:8080/"
        },
        "id": "AHMXh0iBSFhu",
        "outputId": "69593af1-ad66-4a02-b91c-becc3f0a6cae"
      },
      "source": [
        "#성능평가 \n",
        "score = metrics.accuracy_score(result, test_label)\n",
        "score"
      ],
      "execution_count": null,
      "outputs": [
        {
          "output_type": "execute_result",
          "data": {
            "text/plain": [
              "0.9736842105263158"
            ]
          },
          "metadata": {},
          "execution_count": 24
        }
      ]
    },
    {
      "cell_type": "code",
      "metadata": {
        "id": "PaCAihASVCyT"
      },
      "source": [
        "################## pima 머신러닝 ##########################\n",
        "\n",
        "#데이터 불러오기\n",
        "df_pima = pd.read_csv('/content/drive/MyDrive/Colab Notebooks/file/pima-indians-diabetes.csv')\n",
        "df_pima"
      ],
      "execution_count": null,
      "outputs": []
    },
    {
      "cell_type": "code",
      "metadata": {
        "id": "cioneripVGUo"
      },
      "source": [
        "# 학습데이터\n",
        "pima_data = df_pima.iloc[:,0:8]\n",
        "pima_label = df_pima.iloc[:,8]\n",
        "train_data, test_data, train_label, test_label = train_test_split(pima_data,pima_label)\n",
        "train_data"
      ],
      "execution_count": null,
      "outputs": []
    },
    {
      "cell_type": "code",
      "metadata": {
        "colab": {
          "base_uri": "https://localhost:8080/"
        },
        "id": "aXHOv_XvVGns",
        "outputId": "04cc7b1e-eb64-440e-ee54-36fe5a81dc00"
      },
      "source": [
        "# 학습하기\n",
        "model = svm.SVC()\n",
        "model.fit(train_data,train_label)"
      ],
      "execution_count": null,
      "outputs": [
        {
          "output_type": "execute_result",
          "data": {
            "text/plain": [
              "SVC(C=1.0, break_ties=False, cache_size=200, class_weight=None, coef0=0.0,\n",
              "    decision_function_shape='ovr', degree=3, gamma='scale', kernel='rbf',\n",
              "    max_iter=-1, probability=False, random_state=None, shrinking=True,\n",
              "    tol=0.001, verbose=False)"
            ]
          },
          "metadata": {},
          "execution_count": 37
        }
      ]
    },
    {
      "cell_type": "code",
      "metadata": {
        "id": "QkujjxJuVGvl"
      },
      "source": [
        "# 테스트하기\n",
        "result = model.predict(test_data)\n",
        "result"
      ],
      "execution_count": null,
      "outputs": []
    },
    {
      "cell_type": "code",
      "metadata": {
        "id": "BR12yu0HVG6N"
      },
      "source": [
        "# 성능평가\n",
        "score = metrics.accuracy_score(result, test_label)\n",
        "score"
      ],
      "execution_count": null,
      "outputs": []
    }
  ]
}