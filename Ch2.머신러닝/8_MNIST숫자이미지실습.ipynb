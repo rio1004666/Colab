{
  "nbformat": 4,
  "nbformat_minor": 0,
  "metadata": {
    "colab": {
      "name": "8_MNIST숫자이미지실습.ipynb",
      "provenance": [],
      "collapsed_sections": [],
      "mount_file_id": "1M56px2IXFnsajfZHOk1B0xUXKyvZUd7I",
      "authorship_tag": "ABX9TyN06B1pR0pNtb0U8PK7P+01",
      "include_colab_link": true
    },
    "kernelspec": {
      "name": "python3",
      "display_name": "Python 3"
    },
    "language_info": {
      "name": "python"
    }
  },
  "cells": [
    {
      "cell_type": "markdown",
      "metadata": {
        "id": "view-in-github",
        "colab_type": "text"
      },
      "source": [
        "<a href=\"https://colab.research.google.com/github/rio1004666/Colab/blob/main/Ch2.%EB%A8%B8%EC%8B%A0%EB%9F%AC%EB%8B%9D/8_MNIST%EC%88%AB%EC%9E%90%EC%9D%B4%EB%AF%B8%EC%A7%80%EC%8B%A4%EC%8A%B5.ipynb\" target=\"_parent\"><img src=\"https://colab.research.google.com/assets/colab-badge.svg\" alt=\"Open In Colab\"/></a>"
      ]
    },
    {
      "cell_type": "code",
      "metadata": {
        "id": "AhFNbGiIZ83H"
      },
      "source": [
        "\"\"\"\n",
        "날짜: 2021/10/19\n",
        "이름: 강병화\n",
        "내용: MNIST 숫자이미지 실습하기 \n",
        "\"\"\"\n",
        "import pandas as pd\n",
        "import numpy as np\n",
        "import matplotlib.pyplot as plt\n",
        "from sklearn import svm, metrics\n",
        "from sklearn.model_selection import train_test_split\n"
      ],
      "execution_count": null,
      "outputs": []
    },
    {
      "cell_type": "code",
      "metadata": {
        "id": "A0TCk342b4wL"
      },
      "source": [
        "df_mnist_train_data = pd.read_csv('/content/drive/MyDrive/Colab Notebooks/file/mnist_train.csv')\n",
        "df_mnist_test_data = pd.read_csv('/content/drive/MyDrive/Colab Notebooks/file/mnist_test.csv')"
      ],
      "execution_count": null,
      "outputs": []
    },
    {
      "cell_type": "code",
      "metadata": {
        "colab": {
          "base_uri": "https://localhost:8080/",
          "height": 283
        },
        "id": "E2BcPQC5cPU0",
        "outputId": "2c98f8f7-d6d4-4859-c404-96ca259b1620"
      },
      "source": [
        "# 픽셀 데이터 이미지 출력 \n",
        "\n",
        "img_list = df_mnist_test_data.iloc[row,1:].tolist() # 데이터프레임의 슬라이싱 문법 0은 첫번째 행 1:은 두번째 열부터 마지막까지 컬럼\n",
        "img = np.reshape(img_list,[28,28])\n",
        "plt.imshow(img)\n",
        "\n",
        "\n"
      ],
      "execution_count": null,
      "outputs": [
        {
          "output_type": "execute_result",
          "data": {
            "text/plain": [
              "<matplotlib.image.AxesImage at 0x7f43fc9efd50>"
            ]
          },
          "metadata": {},
          "execution_count": 40
        },
        {
          "output_type": "display_data",
          "data": {
            "image/png": "[encoded data removed]",
            "text/plain": [
              "<Figure size 432x288 with 1 Axes>"
            ]
          },
          "metadata": {
            "needs_background": "light"
          }
        }
      ]
    },
    {
      "cell_type": "code",
      "metadata": {
        "colab": {
          "base_uri": "https://localhost:8080/"
        },
        "id": "TvhjFdZTd0Q5",
        "outputId": "8e5e83ea-b93e-40cb-a909-e51f3253805a"
      },
      "source": [
        "# 학습데이터\n",
        "mnist_train_data = df_mnist_train_data.iloc[:,1:] / 255 # 학습데이터가 크면 학습성능이 저하되므로 0~1사이 실수로 정규화한다..\n",
        "mnist_train_label = df_mnist_train_data.iloc[:,0]\n",
        "print(mnist_train_data.shape)\n",
        "mnist_test_data = df_mnist_test_data.iloc[:,1:] / 255 # 테스트 데이터 \n",
        "mnist_test_label = df_mnist_test_data.iloc[:,0]\n",
        "print(mnist_test_data.shape)\n",
        "\n"
      ],
      "execution_count": null,
      "outputs": [
        {
          "output_type": "stream",
          "name": "stdout",
          "text": [
            "(60000, 784)\n",
            "(10000, 784)\n"
          ]
        }
      ]
    },
    {
      "cell_type": "code",
      "metadata": {
        "colab": {
          "base_uri": "https://localhost:8080/"
        },
        "id": "MNEz2iWofT8i",
        "outputId": "89e780a4-8910-43c4-d93d-1343513c2d51"
      },
      "source": [
        "model = svm.SVC()\n",
        "model.fit(mnist_train_data,mnist_train_label)"
      ],
      "execution_count": null,
      "outputs": [
        {
          "output_type": "execute_result",
          "data": {
            "text/plain": [
              "SVC(C=1.0, break_ties=False, cache_size=200, class_weight=None, coef0=0.0,\n",
              "    decision_function_shape='ovr', degree=3, gamma='scale', kernel='rbf',\n",
              "    max_iter=-1, probability=False, random_state=None, shrinking=True,\n",
              "    tol=0.001, verbose=False)"
            ]
          },
          "metadata": {},
          "execution_count": 25
        }
      ]
    },
    {
      "cell_type": "code",
      "metadata": {
        "colab": {
          "base_uri": "https://localhost:8080/"
        },
        "id": "oUMVuFG6fsC4",
        "outputId": "9edab80a-6a98-4099-e4c3-69ac744ffde2"
      },
      "source": [
        "# 테스트하기 \n",
        "result = model.predict(mnist_test_data)\n",
        "result"
      ],
      "execution_count": null,
      "outputs": [
        {
          "output_type": "execute_result",
          "data": {
            "text/plain": [
              "array([7, 2, 1, ..., 4, 5, 6])"
            ]
          },
          "metadata": {},
          "execution_count": 26
        }
      ]
    },
    {
      "cell_type": "code",
      "metadata": {
        "id": "zFFQNc7-f28Q"
      },
      "source": [
        "# 성능평가\n",
        "score = metrics.accuracy_score(result, mnist_test_label)\n",
        "score"
      ],
      "execution_count": null,
      "outputs": []
    },
    {
      "cell_type": "code",
      "metadata": {
        "id": "sNBngRVsi5j4"
      },
      "source": [
        "# 검증\n",
        "row = 1\n",
        "count = 0\n",
        "for pro_img in img_list:\n",
        "  answer = model.predict(mnist_test_data.iloc[[row],:])\n",
        "  if pro_img == answer:\n",
        "      count += 1\n",
        "  row += 1 \n",
        "print(count)"
      ],
      "execution_count": null,
      "outputs": []
    }
  ]
}