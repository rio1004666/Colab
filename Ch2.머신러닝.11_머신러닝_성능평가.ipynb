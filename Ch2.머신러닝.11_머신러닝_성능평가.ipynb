{
  "nbformat": 4,
  "nbformat_minor": 0,
  "metadata": {
    "colab": {
      "name": "11_머신러닝_성능평가.ipynb",
      "provenance": [],
      "collapsed_sections": [],
      "mount_file_id": "1jdUyWbWa9Q0UKe-EF6HGxx71pOds6QOv",
      "authorship_tag": "ABX9TyNL96yR8DRyq2U+SbCo0Cgm",
      "include_colab_link": true
    },
    "kernelspec": {
      "name": "python3",
      "display_name": "Python 3"
    },
    "language_info": {
      "name": "python"
    }
  },
  "cells": [
    {
      "cell_type": "markdown",
      "metadata": {
        "id": "view-in-github",
        "colab_type": "text"
      },
      "source": [
        "<a href=\"https://colab.research.google.com/github/rio1004666/Colab/blob/main/Ch2.%EB%A8%B8%EC%8B%A0%EB%9F%AC%EB%8B%9D.11_%EB%A8%B8%EC%8B%A0%EB%9F%AC%EB%8B%9D_%EC%84%B1%EB%8A%A5%ED%8F%89%EA%B0%80.ipynb\" target=\"_parent\"><img src=\"https://colab.research.google.com/assets/colab-badge.svg\" alt=\"Open In Colab\"/></a>"
      ]
    },
    {
      "cell_type": "code",
      "metadata": {
        "id": "ixH64WXoxMt1"
      },
      "source": [
        "\"\"\"\n",
        "날짜: 2021/10/21\n",
        "이름: 강병화\n",
        "내용: 머신러닝 성능평가 실습 \n",
        "\"\"\"\n",
        "import pandas as pd\n",
        "from sklearn import svm, metrics, model_selection\n",
        "from sklearn.ensemble import RandomForestClassifier\n",
        "from sklearn.model_selection import train_test_split, cross_val_score\n",
        "from sklearn.metrics import confusion_matrix\n",
        "from sklearn.metrics import classification_report"
      ],
      "execution_count": null,
      "outputs": []
    },
    {
      "cell_type": "code",
      "metadata": {
        "id": "Wi6hiEvR0Mbj"
      },
      "source": [
        "# 데이터 불러오기\n",
        "df_iris = pd.read_csv('/content/drive/MyDrive/Colab Notebooks/file/iris.csv')\n",
        "df_iris"
      ],
      "execution_count": null,
      "outputs": []
    },
    {
      "cell_type": "code",
      "metadata": {
        "colab": {
          "base_uri": "https://localhost:8080/"
        },
        "id": "kItiXfSi0enx",
        "outputId": "207fe859-2abd-414a-acf4-bad824f0e713"
      },
      "source": [
        "# 훈련 데이터\n",
        "iris_data = df_iris.iloc[:,0:4]\n",
        "iris_label = df_iris.iloc[:,4]\n",
        "\n",
        "train_data, test_data, train_label, test_label = train_test_split(iris_data,iris_label,test_size=0.01)\n",
        "train_data.shape"
      ],
      "execution_count": null,
      "outputs": [
        {
          "output_type": "execute_result",
          "data": {
            "text/plain": [
              "(148, 4)"
            ]
          },
          "metadata": {},
          "execution_count": 33
        }
      ]
    },
    {
      "cell_type": "code",
      "metadata": {
        "colab": {
          "base_uri": "https://localhost:8080/"
        },
        "id": "3WU-JCwi1Ead",
        "outputId": "0803e242-0c25-4757-d723-08bd46dda7ee"
      },
      "source": [
        "# 학습하기\n",
        "\n",
        "model1 = svm.SVC()\n",
        "model2 = RandomForestClassifier()\n",
        "\n",
        "model1.fit(train_data,train_label)\n",
        "model2.fit(train_data,train_label)"
      ],
      "execution_count": null,
      "outputs": [
        {
          "output_type": "execute_result",
          "data": {
            "text/plain": [
              "RandomForestClassifier(bootstrap=True, ccp_alpha=0.0, class_weight=None,\n",
              "                       criterion='gini', max_depth=None, max_features='auto',\n",
              "                       max_leaf_nodes=None, max_samples=None,\n",
              "                       min_impurity_decrease=0.0, min_impurity_split=None,\n",
              "                       min_samples_leaf=1, min_samples_split=2,\n",
              "                       min_weight_fraction_leaf=0.0, n_estimators=100,\n",
              "                       n_jobs=None, oob_score=False, random_state=None,\n",
              "                       verbose=0, warm_start=False)"
            ]
          },
          "metadata": {},
          "execution_count": 34
        }
      ]
    },
    {
      "cell_type": "code",
      "metadata": {
        "id": "Zqf4-xtN1RuV"
      },
      "source": [
        "# 테스트 하기\n",
        "result_model1 = model1.predict(test_data)\n",
        "result_model2 = model2.predict(test_data)"
      ],
      "execution_count": null,
      "outputs": []
    },
    {
      "cell_type": "code",
      "metadata": {
        "id": "-SMAOxO81eOU"
      },
      "source": [
        "# 모델평가1 - 정확도(Accuracy) 확인\n",
        "score1 = metrics.accuracy_score(test_label, result_model1)\n",
        "score2 = metrics.accuracy_score(test_label, result_model2)\n",
        "print(\"score1: \", score1)\n",
        "print(\"score2: \", score2)\n"
      ],
      "execution_count": null,
      "outputs": []
    },
    {
      "cell_type": "code",
      "metadata": {
        "id": "yHekUdq72hMB"
      },
      "source": [
        "# 모델평가2 - 혼동행렬 평가 \n",
        "\n",
        "cm1 = confusion_matrix(test_label, result_model1)\n",
        "cm2 = confusion_matrix(test_label, result_model2)\n",
        "# 첫번째가 세토사 두번째가 버지칼라 세번째가 버지니카 \n",
        "print('cm1')\n",
        "print(cm1)\n",
        "print('cm2') \n",
        "print(cm2)\n",
        "\n",
        "cr1 = classification_report(test_label, result_model1, target_names=['setosa','versicolor','virginica'])\n",
        "cr2 = classification_report(test_label, result_model2, target_names=['setosa','versicolor','virginica'])\n",
        "print(cr1)\n",
        "print(cr2)\n",
        "\n"
      ],
      "execution_count": null,
      "outputs": []
    },
    {
      "cell_type": "code",
      "metadata": {
        "colab": {
          "base_uri": "https://localhost:8080/"
        },
        "id": "e1A8RS5W51cU",
        "outputId": "9ed98ad9-e5aa-4f49-8bbb-c51a4974412d"
      },
      "source": [
        "\n",
        "# 모델평가3 = K 교차검증 평가\n",
        "\n",
        "score1 = cross_val_score(model1,train_data,train_label, cv=5) # cv는 분할 갯수 \n",
        "score2 = cross_val_score(model2,train_data,train_label, cv=5)\n",
        "print(score1)\n",
        "print(score2)"
      ],
      "execution_count": null,
      "outputs": [
        {
          "output_type": "stream",
          "name": "stdout",
          "text": [
            "[0.96666667 0.96666667 0.96666667 0.89655172 1.        ]\n",
            "[0.93333333 0.9        1.         0.89655172 1.        ]\n"
          ]
        }
      ]
    }
  ]
}